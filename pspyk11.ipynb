{
  "nbformat": 4,
  "nbformat_minor": 0,
  "metadata": {
    "colab": {
      "provenance": []
    },
    "kernelspec": {
      "name": "python3",
      "display_name": "Python 3"
    },
    "language_info": {
      "name": "python"
    }
  },
  "cells": [
    {
      "cell_type": "code",
      "execution_count": null,
      "metadata": {
        "id": "4C6Ry_IjTHnd"
      },
      "outputs": [],
      "source": [
        "#Varibales for Code\n",
        "\n",
        "\"AMD\", \"COK\", \"2024-02-24 08:00:00\", \"2024-02-24 10:30:00\", \"2024-02-24 08:50:00\", \"2024-02-24 11:25:00\", \"Akasa Air\", \"airTraffic\"\n",
        "\"COK\", \"SXR\", \"2024-02-25 12:00:00\", \"2024-02-25 18:30:00\", \"2024-02-25 12:15:00\", \"2024-02-25 19:15:00\", \"Vistara\", \"mechanical\"\n",
        "\"COK\", \"AMD\", \"2024-03-24 08:00:00\", \"2024-03-24 10:40:00\", \"2024-03-24 08:17:00\", \"2024-03-24 11:00:00\", \"Akasa Air\", \"storm\"\n",
        "\"SXR\", \"AMD\", \"2024-04-28 05:30:00\", \"2024-04-28 07:35:00\", \"2024-04-28 05:50:00\", \"2024-04-28 07:55:00\", \"Vistara\", \"visibility\"\n",
        "\"AMD\", \"SXR\", \"2024-07-25 07:00:00\", \"2024-07-25 09:10:00\", \"2024-07-25 07:10:00\", \"2024-07-25 09:20:00\", \"Akasa Air\", \"airTraffic\"\n",
        "\"AMD\", \"CCU\", \"2024-03-28 18:00:00\", \"2024-03-28 20:25:00\", \"2024-03-28 19:00:00\", \"2024-03-28 21:15:00\", \"Vistara\", \"storm\"\n",
        "\"SXR\", \"COK\", \"2024-06-28 23:00:00\", \"2024-06-29 04:40:00\", \"2024-06-28 23:40:00\", \"2024-06-29 05:20:00\", \"Vistara\", \"airTraffic\"\n",
        "\"COK\", \"CCU\", \"2024-06-24 18:00:00\", \"2024-06-24 21:05:00\", \"2024-06-24 18:05:00\", \"2024-06-24 21:25:00\", \"IndiGo\", \"visibility\"\n",
        "\"CCU\", \"AMD\", \"2024-07-25 04:00:00\", \"2024-07-25 06:45:00\", \"2024-07-25 04:30:00\", \"2024-07-25 07:05:00\", \"IndiGo\", \"airTraffic\"\n",
        "\"CCU\", \"COK\", \"2024-02-28 14:00:00\", \"2024-02-28 17:10:00\", \"2024-02-28 14:10:00\", \"2024-02-28 17:40:00\", \"IndiGo\", \"mechanical\"\n",
        "\"CCU\", \"SXR\", \"2024-04-21 17:00:00\", \"2024-04-21 19:50:00\", \"2024-04-21 17:30:00\", \"2024-04-21 20:05:00\", \"IndiGo\", \"airTraffic\""
      ]
    },
    {
      "cell_type": "code",
      "source": [
        "#Schema to be imposed\n",
        "\"origin_airport\", \"destination_airport\", \"scheduled_departure_time\", \"scheduled_arrival_time\", \"actual_departure_time\", \"actual_arrival_time\", \"carrier\", \"delay_reason\""
      ],
      "metadata": {
        "id": "NSj_Dg60TKxF"
      },
      "execution_count": null,
      "outputs": []
    },
    {
      "cell_type": "code",
      "source": [
        "#Import Libraries\n"
      ],
      "metadata": {
        "id": "6aW0AU3gTKz4"
      },
      "execution_count": null,
      "outputs": []
    },
    {
      "cell_type": "code",
      "source": [
        "#Create a SparkSession\n"
      ],
      "metadata": {
        "id": "zF51idgGTK2v"
      },
      "execution_count": null,
      "outputs": []
    },
    {
      "cell_type": "code",
      "source": [
        "#Create dataframe for the given data using enforced Schema method\n"
      ],
      "metadata": {
        "id": "bJjbtnDqTK42"
      },
      "execution_count": null,
      "outputs": []
    },
    {
      "cell_type": "code",
      "source": [
        "#Filter the dataframe to display all delayed flights\n"
      ],
      "metadata": {
        "id": "zE8sMVYNTK7i"
      },
      "execution_count": null,
      "outputs": []
    },
    {
      "cell_type": "code",
      "source": [
        "#Calculate Average delay per source airport\n"
      ],
      "metadata": {
        "id": "6eyemK93TK-i"
      },
      "execution_count": null,
      "outputs": []
    },
    {
      "cell_type": "code",
      "source": [
        "##Calculate Average delay per destination airport\n"
      ],
      "metadata": {
        "id": "WL0mvZQjTLA4"
      },
      "execution_count": null,
      "outputs": []
    },
    {
      "cell_type": "code",
      "source": [
        "#Calculate Average delay per airline\n"
      ],
      "metadata": {
        "id": "E926xJ-0sYzJ"
      },
      "execution_count": null,
      "outputs": []
    },
    {
      "cell_type": "code",
      "source": [
        "#Fetch airline with maximum delay (in single flight)\n"
      ],
      "metadata": {
        "id": "vjYnz1lnsY1-"
      },
      "execution_count": null,
      "outputs": []
    },
    {
      "cell_type": "code",
      "source": [
        "#Fetch airline with maximum delay (overall time delay)\n"
      ],
      "metadata": {
        "id": "rnafU6f8sY5E"
      },
      "execution_count": null,
      "outputs": []
    },
    {
      "cell_type": "code",
      "source": [
        "#Fetch airline with minimum delay (in single flight)\n"
      ],
      "metadata": {
        "id": "nV2IzGmawZA3"
      },
      "execution_count": null,
      "outputs": []
    },
    {
      "cell_type": "code",
      "source": [
        "#Fetch airline with minimum delay (overall time delay)\n"
      ],
      "metadata": {
        "id": "CLs2jLCVsY7e"
      },
      "execution_count": null,
      "outputs": []
    },
    {
      "cell_type": "code",
      "source": [
        "#Calculate Average delay per reason\n"
      ],
      "metadata": {
        "id": "j1wbEA5esY9b"
      },
      "execution_count": null,
      "outputs": []
    },
    {
      "cell_type": "code",
      "source": [
        "#Find most recurring cause of delays\n"
      ],
      "metadata": {
        "id": "6L4hSBbxsZAo"
      },
      "execution_count": null,
      "outputs": []
    },
    {
      "cell_type": "code",
      "source": [
        "#Identify the airline with best recovery time\n",
        "# (Even though the flight started late, the airline recovered a few minutes in flight time)\n",
        "\n",
        "\n"
      ],
      "metadata": {
        "id": "2PjP8N9os0zz"
      },
      "execution_count": null,
      "outputs": []
    }
  ]
}