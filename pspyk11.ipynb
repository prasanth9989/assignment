{
  "nbformat": 4,
  "nbformat_minor": 0,
  "metadata": {
    "colab": {
      "provenance": []
    },
    "kernelspec": {
      "name": "python3",
      "display_name": "Python 3"
    },
    "language_info": {
      "name": "python"
    }
  },
  "cells": [
    {
      "cell_type": "code",
      "execution_count": 4,
      "metadata": {
        "id": "4C6Ry_IjTHnd"
      },
      "outputs": [],
      "source": [
        "#Varibales for Code\n",
        "\n",
        "df=spark.createDataFrame([\n",
        "[\"AMD\", \"COK\", \"2024-02-24 08:00:00\", \"2024-02-24 10:30:00\", \"2024-02-24 08:50:00\", \"2024-02-24 11:25:00\", \"Akasa Air\", \"airTraffic\"],\n",
        "[\"COK\", \"SXR\", \"2024-02-25 12:00:00\", \"2024-02-25 18:30:00\", \"2024-02-25 12:15:00\", \"2024-02-25 19:15:00\", \"Vistara\", \"mechanical\"],\n",
        "[\"COK\", \"AMD\", \"2024-03-24 08:00:00\", \"2024-03-24 10:40:00\", \"2024-03-24 08:17:00\", \"2024-03-24 11:00:00\", \"Akasa Air\", \"storm\"],\n",
        "[\"SXR\", \"AMD\", \"2024-04-28 05:30:00\", \"2024-04-28 07:35:00\", \"2024-04-28 05:50:00\", \"2024-04-28 07:55:00\", \"Vistara\", \"visibility\"],\n",
        "[\"AMD\", \"SXR\", \"2024-07-25 07:00:00\", \"2024-07-25 09:10:00\", \"2024-07-25 07:10:00\", \"2024-07-25 09:20:00\", \"Akasa Air\", \"airTraffic\"],\n",
        "[\"AMD\", \"CCU\", \"2024-03-28 18:00:00\", \"2024-03-28 20:25:00\", \"2024-03-28 19:00:00\", \"2024-03-28 21:15:00\", \"Vistara\", \"storm\"],\n",
        "[\"SXR\", \"COK\", \"2024-06-28 23:00:00\", \"2024-06-29 04:40:00\", \"2024-06-28 23:40:00\", \"2024-06-29 05:20:00\", \"Vistara\", \"airTraffic\"],\n",
        "[\"COK\", \"CCU\", \"2024-06-24 18:00:00\", \"2024-06-24 21:05:00\", \"2024-06-24 18:05:00\", \"2024-06-24 21:25:00\", \"IndiGo\", \"visibility\"],\n",
        "[\"CCU\", \"AMD\", \"2024-07-25 04:00:00\", \"2024-07-25 06:45:00\", \"2024-07-25 04:30:00\", \"2024-07-25 07:05:00\", \"IndiGo\", \"airTraffic\"],\n",
        "[\"CCU\", \"COK\", \"2024-02-28 14:00:00\", \"2024-02-28 17:10:00\", \"2024-02-28 14:10:00\", \"2024-02-28 17:40:00\", \"IndiGo\", \"mechanical\"],\n",
        "[\"CCU\", \"SXR\", \"2024-04-21 17:00:00\", \"2024-04-21 19:50:00\", \"2024-04-21 17:30:00\", \"2024-04-21 20:05:00\", \"IndiGo\", \"airTraffic\"]],\n",
        "schema=[\"origin_airport\", \"destination_airport\", \"scheduled_departure_time\", \"scheduled_arrival_time\", \"actual_departure_time\", \"actual_arrival_time\", \"carrier\", \"delay_reason\"])"
      ]
    },
    {
      "cell_type": "code",
      "source": [
        "#Schema to be imposed\n",
        "\"origin_airport\", \"destination_airport\", \"scheduled_departure_time\", \"scheduled_arrival_time\", \"actual_departure_time\", \"actual_arrival_time\", \"carrier\", \"delay_reason\""
      ],
      "metadata": {
        "id": "NSj_Dg60TKxF"
      },
      "execution_count": null,
      "outputs": []
    },
    {
      "cell_type": "code",
      "source": [
        "#Import Libraries\n",
        "!pip install pyspark\n",
        "from pyspark.sql import SparkSession\n",
        "from pyspark.sql.functions import *\n",
        "from pyspark.sql.types import StructType,StructField,TimestampType,StringType"
      ],
      "metadata": {
        "id": "6aW0AU3gTKz4",
        "outputId": "7ce4cfd4-929e-45b8-a1ec-990f5c5afda0",
        "colab": {
          "base_uri": "https://localhost:8080/"
        }
      },
      "execution_count": 16,
      "outputs": [
        {
          "output_type": "stream",
          "name": "stdout",
          "text": [
            "Requirement already satisfied: pyspark in /usr/local/lib/python3.10/dist-packages (3.5.1)\n",
            "Requirement already satisfied: py4j==0.10.9.7 in /usr/local/lib/python3.10/dist-packages (from pyspark) (0.10.9.7)\n"
          ]
        }
      ]
    },
    {
      "cell_type": "code",
      "source": [
        "#Create a SparkSession\n",
        "spark = SparkSession.builder.appName('flight_details').getOrCreate()"
      ],
      "metadata": {
        "id": "zF51idgGTK2v"
      },
      "execution_count": 3,
      "outputs": []
    },
    {
      "cell_type": "code",
      "source": [
        "#Create dataframe for the given data using enforced Schema method\n",
        "df.show()"
      ],
      "metadata": {
        "id": "bJjbtnDqTK42",
        "outputId": "7cc65807-1d87-468f-da70-d8a558d9bf4c",
        "colab": {
          "base_uri": "https://localhost:8080/"
        }
      },
      "execution_count": 6,
      "outputs": [
        {
          "output_type": "stream",
          "name": "stdout",
          "text": [
            "+--------------+-------------------+------------------------+----------------------+---------------------+-------------------+---------+------------+\n",
            "|origin_airport|destination_airport|scheduled_departure_time|scheduled_arrival_time|actual_departure_time|actual_arrival_time|  carrier|delay_reason|\n",
            "+--------------+-------------------+------------------------+----------------------+---------------------+-------------------+---------+------------+\n",
            "|           AMD|                COK|     2024-02-24 08:00:00|   2024-02-24 10:30:00|  2024-02-24 08:50:00|2024-02-24 11:25:00|Akasa Air|  airTraffic|\n",
            "|           COK|                SXR|     2024-02-25 12:00:00|   2024-02-25 18:30:00|  2024-02-25 12:15:00|2024-02-25 19:15:00|  Vistara|  mechanical|\n",
            "|           COK|                AMD|     2024-03-24 08:00:00|   2024-03-24 10:40:00|  2024-03-24 08:17:00|2024-03-24 11:00:00|Akasa Air|       storm|\n",
            "|           SXR|                AMD|     2024-04-28 05:30:00|   2024-04-28 07:35:00|  2024-04-28 05:50:00|2024-04-28 07:55:00|  Vistara|  visibility|\n",
            "|           AMD|                SXR|     2024-07-25 07:00:00|   2024-07-25 09:10:00|  2024-07-25 07:10:00|2024-07-25 09:20:00|Akasa Air|  airTraffic|\n",
            "|           AMD|                CCU|     2024-03-28 18:00:00|   2024-03-28 20:25:00|  2024-03-28 19:00:00|2024-03-28 21:15:00|  Vistara|       storm|\n",
            "|           SXR|                COK|     2024-06-28 23:00:00|   2024-06-29 04:40:00|  2024-06-28 23:40:00|2024-06-29 05:20:00|  Vistara|  airTraffic|\n",
            "|           COK|                CCU|     2024-06-24 18:00:00|   2024-06-24 21:05:00|  2024-06-24 18:05:00|2024-06-24 21:25:00|   IndiGo|  visibility|\n",
            "|           CCU|                AMD|     2024-07-25 04:00:00|   2024-07-25 06:45:00|  2024-07-25 04:30:00|2024-07-25 07:05:00|   IndiGo|  airTraffic|\n",
            "|           CCU|                COK|     2024-02-28 14:00:00|   2024-02-28 17:10:00|  2024-02-28 14:10:00|2024-02-28 17:40:00|   IndiGo|  mechanical|\n",
            "|           CCU|                SXR|     2024-04-21 17:00:00|   2024-04-21 19:50:00|  2024-04-21 17:30:00|2024-04-21 20:05:00|   IndiGo|  airTraffic|\n",
            "+--------------+-------------------+------------------------+----------------------+---------------------+-------------------+---------+------------+\n",
            "\n"
          ]
        }
      ]
    },
    {
      "cell_type": "code",
      "source": [
        "#Filter the dataframe to display all delayed flights\n",
        "arr=df.withColumn('delay_departure',(unix_timestamp('actual_departure_time')-unix_timestamp('scheduled_departure_time'))/60)\n",
        "arr.filter(col('delay_departure')>0).show()"
      ],
      "metadata": {
        "id": "zE8sMVYNTK7i",
        "outputId": "129a0449-31f6-4755-aba8-2022ea1f49dd",
        "colab": {
          "base_uri": "https://localhost:8080/"
        }
      },
      "execution_count": 18,
      "outputs": [
        {
          "output_type": "stream",
          "name": "stdout",
          "text": [
            "+--------------+-------------------+------------------------+----------------------+---------------------+-------------------+---------+------------+---------------+\n",
            "|origin_airport|destination_airport|scheduled_departure_time|scheduled_arrival_time|actual_departure_time|actual_arrival_time|  carrier|delay_reason|delay_departure|\n",
            "+--------------+-------------------+------------------------+----------------------+---------------------+-------------------+---------+------------+---------------+\n",
            "|           AMD|                COK|     2024-02-24 08:00:00|   2024-02-24 10:30:00|  2024-02-24 08:50:00|2024-02-24 11:25:00|Akasa Air|  airTraffic|           50.0|\n",
            "|           COK|                SXR|     2024-02-25 12:00:00|   2024-02-25 18:30:00|  2024-02-25 12:15:00|2024-02-25 19:15:00|  Vistara|  mechanical|           15.0|\n",
            "|           COK|                AMD|     2024-03-24 08:00:00|   2024-03-24 10:40:00|  2024-03-24 08:17:00|2024-03-24 11:00:00|Akasa Air|       storm|           17.0|\n",
            "|           SXR|                AMD|     2024-04-28 05:30:00|   2024-04-28 07:35:00|  2024-04-28 05:50:00|2024-04-28 07:55:00|  Vistara|  visibility|           20.0|\n",
            "|           AMD|                SXR|     2024-07-25 07:00:00|   2024-07-25 09:10:00|  2024-07-25 07:10:00|2024-07-25 09:20:00|Akasa Air|  airTraffic|           10.0|\n",
            "|           AMD|                CCU|     2024-03-28 18:00:00|   2024-03-28 20:25:00|  2024-03-28 19:00:00|2024-03-28 21:15:00|  Vistara|       storm|           60.0|\n",
            "|           SXR|                COK|     2024-06-28 23:00:00|   2024-06-29 04:40:00|  2024-06-28 23:40:00|2024-06-29 05:20:00|  Vistara|  airTraffic|           40.0|\n",
            "|           COK|                CCU|     2024-06-24 18:00:00|   2024-06-24 21:05:00|  2024-06-24 18:05:00|2024-06-24 21:25:00|   IndiGo|  visibility|            5.0|\n",
            "|           CCU|                AMD|     2024-07-25 04:00:00|   2024-07-25 06:45:00|  2024-07-25 04:30:00|2024-07-25 07:05:00|   IndiGo|  airTraffic|           30.0|\n",
            "|           CCU|                COK|     2024-02-28 14:00:00|   2024-02-28 17:10:00|  2024-02-28 14:10:00|2024-02-28 17:40:00|   IndiGo|  mechanical|           10.0|\n",
            "|           CCU|                SXR|     2024-04-21 17:00:00|   2024-04-21 19:50:00|  2024-04-21 17:30:00|2024-04-21 20:05:00|   IndiGo|  airTraffic|           30.0|\n",
            "+--------------+-------------------+------------------------+----------------------+---------------------+-------------------+---------+------------+---------------+\n",
            "\n"
          ]
        }
      ]
    },
    {
      "cell_type": "code",
      "source": [
        "#Calculate Average delay per source airport\n",
        "arr1=df.groupBy('origin_airport').agg({'delay_departure':'avg'}).show()"
      ],
      "metadata": {
        "id": "6eyemK93TK-i",
        "outputId": "119a2456-4325-405e-bb50-7a169cb3e8ad",
        "colab": {
          "base_uri": "https://localhost:8080/"
        }
      },
      "execution_count": 20,
      "outputs": [
        {
          "output_type": "stream",
          "name": "stdout",
          "text": [
            "+--------------+--------------------+\n",
            "|origin_airport|avg(delay_departure)|\n",
            "+--------------+--------------------+\n",
            "|           SXR|                30.0|\n",
            "|           AMD|                40.0|\n",
            "|           COK|  12.333333333333334|\n",
            "|           CCU|  23.333333333333332|\n",
            "+--------------+--------------------+\n",
            "\n"
          ]
        }
      ]
    },
    {
      "cell_type": "code",
      "source": [
        "##Calculate Average delay per destination airport\n",
        "arr2=df.groupBy('destination_airport').agg({'delay_departure':'avg'}).show()"
      ],
      "metadata": {
        "id": "WL0mvZQjTLA4",
        "outputId": "c85bc77a-672b-42ce-8ef4-e66754bbfb36",
        "colab": {
          "base_uri": "https://localhost:8080/"
        }
      },
      "execution_count": 22,
      "outputs": [
        {
          "output_type": "stream",
          "name": "stdout",
          "text": [
            "+-------------------+--------------------+\n",
            "|destination_airport|avg(delay_departure)|\n",
            "+-------------------+--------------------+\n",
            "|                SXR|  18.333333333333332|\n",
            "|                AMD|  22.333333333333332|\n",
            "|                COK|  33.333333333333336|\n",
            "|                CCU|                32.5|\n",
            "+-------------------+--------------------+\n",
            "\n"
          ]
        }
      ]
    },
    {
      "cell_type": "code",
      "source": [
        "#Calculate Average delay per airline\n",
        "arr3=df.groupBy('carrier').agg({'delay_departure':'avg'}).show()"
      ],
      "metadata": {
        "id": "E926xJ-0sYzJ",
        "outputId": "fc04f3ff-3530-4e25-8452-2b31c8fcdb92",
        "colab": {
          "base_uri": "https://localhost:8080/"
        }
      },
      "execution_count": 24,
      "outputs": [
        {
          "output_type": "stream",
          "name": "stdout",
          "text": [
            "+---------+--------------------+\n",
            "|  carrier|avg(delay_departure)|\n",
            "+---------+--------------------+\n",
            "|Akasa Air|  25.666666666666668|\n",
            "|  Vistara|               33.75|\n",
            "|   IndiGo|               18.75|\n",
            "+---------+--------------------+\n",
            "\n"
          ]
        }
      ]
    },
    {
      "cell_type": "code",
      "source": [
        "#Fetch airline with maximum delay (in single flight)\n",
        "arr4=df.select(['carrier','delay_departure']).orderBy('delay_departure',ascending=False).show(1)"
      ],
      "metadata": {
        "id": "vjYnz1lnsY1-",
        "outputId": "5629c745-c57d-4cf1-8a84-a0b95c9d14fb",
        "colab": {
          "base_uri": "https://localhost:8080/"
        }
      },
      "execution_count": 28,
      "outputs": [
        {
          "output_type": "stream",
          "name": "stdout",
          "text": [
            "+-------+---------------+\n",
            "|carrier|delay_departure|\n",
            "+-------+---------------+\n",
            "|Vistara|           60.0|\n",
            "+-------+---------------+\n",
            "only showing top 1 row\n",
            "\n"
          ]
        }
      ]
    },
    {
      "cell_type": "code",
      "source": [
        "#Fetch airline with maximum delay (overall time delay)\n",
        "arr5=df.groupBy('carrier').agg({'delay_departure':'sum'}).orderBy('sum(delay_departure)',ascending=False).show(1)"
      ],
      "metadata": {
        "id": "rnafU6f8sY5E",
        "outputId": "b03c31cd-8d4d-44a3-dc13-c976593642ec",
        "colab": {
          "base_uri": "https://localhost:8080/"
        }
      },
      "execution_count": 31,
      "outputs": [
        {
          "output_type": "stream",
          "name": "stdout",
          "text": [
            "+-------+--------------------+\n",
            "|carrier|sum(delay_departure)|\n",
            "+-------+--------------------+\n",
            "|Vistara|               135.0|\n",
            "+-------+--------------------+\n",
            "only showing top 1 row\n",
            "\n"
          ]
        }
      ]
    },
    {
      "cell_type": "code",
      "source": [
        "#Fetch airline with minimum delay (in single flight)\n",
        "arr6= df.select(['carrier','delay_departure']).orderBy('delay_departure',ascending=True).show(1)"
      ],
      "metadata": {
        "id": "nV2IzGmawZA3",
        "outputId": "91f5511d-e6e3-4e18-bd17-fa63a173f107",
        "colab": {
          "base_uri": "https://localhost:8080/"
        }
      },
      "execution_count": 32,
      "outputs": [
        {
          "output_type": "stream",
          "name": "stdout",
          "text": [
            "+-------+---------------+\n",
            "|carrier|delay_departure|\n",
            "+-------+---------------+\n",
            "| IndiGo|            5.0|\n",
            "+-------+---------------+\n",
            "only showing top 1 row\n",
            "\n"
          ]
        }
      ]
    },
    {
      "cell_type": "code",
      "source": [
        "#Fetch airline with minimum delay (overall time delay)\n",
        "arr7=df.groupBy('carrier').agg(sum('delay_departure')).orderBy('sum(delay_departure)',ascending=True).show(1)"
      ],
      "metadata": {
        "id": "CLs2jLCVsY7e",
        "outputId": "6f19a26d-8314-46cf-a2e6-626e1de8091d",
        "colab": {
          "base_uri": "https://localhost:8080/"
        }
      },
      "execution_count": 35,
      "outputs": [
        {
          "output_type": "stream",
          "name": "stdout",
          "text": [
            "+-------+--------------------+\n",
            "|carrier|sum(delay_departure)|\n",
            "+-------+--------------------+\n",
            "| IndiGo|                75.0|\n",
            "+-------+--------------------+\n",
            "only showing top 1 row\n",
            "\n"
          ]
        }
      ]
    },
    {
      "cell_type": "code",
      "source": [
        "#Calculate Average delay per reason\n",
        "arr8=df.groupBy('delay_reason').agg(avg('delay_departure')).show()"
      ],
      "metadata": {
        "id": "j1wbEA5esY9b",
        "outputId": "e8f41c29-544a-4d56-d80b-2b35c22be372",
        "colab": {
          "base_uri": "https://localhost:8080/"
        }
      },
      "execution_count": 39,
      "outputs": [
        {
          "output_type": "stream",
          "name": "stdout",
          "text": [
            "+------------+--------------------+\n",
            "|delay_reason|avg(delay_departure)|\n",
            "+------------+--------------------+\n",
            "|  visibility|                12.5|\n",
            "|  airTraffic|                32.0|\n",
            "|       storm|                38.5|\n",
            "|  mechanical|                12.5|\n",
            "+------------+--------------------+\n",
            "\n"
          ]
        }
      ]
    },
    {
      "cell_type": "code",
      "source": [
        "#Find most recurring cause of delays\n",
        "arr9=df.groupBy('delay_reason').agg(count('delay_reason')).orderBy('count(delay_reason)',ascending=False).show(1)"
      ],
      "metadata": {
        "id": "6L4hSBbxsZAo",
        "outputId": "47ff4fe9-c66e-4d97-eaeb-1c32f2de2043",
        "colab": {
          "base_uri": "https://localhost:8080/"
        }
      },
      "execution_count": 41,
      "outputs": [
        {
          "output_type": "stream",
          "name": "stdout",
          "text": [
            "+------------+-------------------+\n",
            "|delay_reason|count(delay_reason)|\n",
            "+------------+-------------------+\n",
            "|  airTraffic|                  5|\n",
            "+------------+-------------------+\n",
            "only showing top 1 row\n",
            "\n"
          ]
        }
      ]
    },
    {
      "cell_type": "code",
      "source": [
        "df.show()"
      ],
      "metadata": {
        "id": "wVLVLuxZNC6r",
        "outputId": "b6c9dc79-cf02-4712-f39d-917b2d64a4ba",
        "colab": {
          "base_uri": "https://localhost:8080/"
        }
      },
      "execution_count": 42,
      "outputs": [
        {
          "output_type": "stream",
          "name": "stdout",
          "text": [
            "+--------------+-------------------+------------------------+----------------------+---------------------+-------------------+---------+------------+---------------+\n",
            "|origin_airport|destination_airport|scheduled_departure_time|scheduled_arrival_time|actual_departure_time|actual_arrival_time|  carrier|delay_reason|delay_departure|\n",
            "+--------------+-------------------+------------------------+----------------------+---------------------+-------------------+---------+------------+---------------+\n",
            "|           AMD|                COK|     2024-02-24 08:00:00|   2024-02-24 10:30:00|  2024-02-24 08:50:00|2024-02-24 11:25:00|Akasa Air|  airTraffic|           50.0|\n",
            "|           COK|                SXR|     2024-02-25 12:00:00|   2024-02-25 18:30:00|  2024-02-25 12:15:00|2024-02-25 19:15:00|  Vistara|  mechanical|           15.0|\n",
            "|           COK|                AMD|     2024-03-24 08:00:00|   2024-03-24 10:40:00|  2024-03-24 08:17:00|2024-03-24 11:00:00|Akasa Air|       storm|           17.0|\n",
            "|           SXR|                AMD|     2024-04-28 05:30:00|   2024-04-28 07:35:00|  2024-04-28 05:50:00|2024-04-28 07:55:00|  Vistara|  visibility|           20.0|\n",
            "|           AMD|                SXR|     2024-07-25 07:00:00|   2024-07-25 09:10:00|  2024-07-25 07:10:00|2024-07-25 09:20:00|Akasa Air|  airTraffic|           10.0|\n",
            "|           AMD|                CCU|     2024-03-28 18:00:00|   2024-03-28 20:25:00|  2024-03-28 19:00:00|2024-03-28 21:15:00|  Vistara|       storm|           60.0|\n",
            "|           SXR|                COK|     2024-06-28 23:00:00|   2024-06-29 04:40:00|  2024-06-28 23:40:00|2024-06-29 05:20:00|  Vistara|  airTraffic|           40.0|\n",
            "|           COK|                CCU|     2024-06-24 18:00:00|   2024-06-24 21:05:00|  2024-06-24 18:05:00|2024-06-24 21:25:00|   IndiGo|  visibility|            5.0|\n",
            "|           CCU|                AMD|     2024-07-25 04:00:00|   2024-07-25 06:45:00|  2024-07-25 04:30:00|2024-07-25 07:05:00|   IndiGo|  airTraffic|           30.0|\n",
            "|           CCU|                COK|     2024-02-28 14:00:00|   2024-02-28 17:10:00|  2024-02-28 14:10:00|2024-02-28 17:40:00|   IndiGo|  mechanical|           10.0|\n",
            "|           CCU|                SXR|     2024-04-21 17:00:00|   2024-04-21 19:50:00|  2024-04-21 17:30:00|2024-04-21 20:05:00|   IndiGo|  airTraffic|           30.0|\n",
            "+--------------+-------------------+------------------------+----------------------+---------------------+-------------------+---------+------------+---------------+\n",
            "\n"
          ]
        }
      ]
    },
    {
      "cell_type": "code",
      "source": [
        "#Identify the airline with best recovery time\n",
        "# (Even though the flight started late, the airline recovered a few minutes in flight time)\n",
        "\n",
        "\n"
      ],
      "metadata": {
        "id": "2PjP8N9os0zz"
      },
      "execution_count": null,
      "outputs": []
    }
  ]
}