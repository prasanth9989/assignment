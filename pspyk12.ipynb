{
  "nbformat": 4,
  "nbformat_minor": 0,
  "metadata": {
    "colab": {
      "provenance": [],
      "include_colab_link": true
    },
    "kernelspec": {
      "name": "python3",
      "display_name": "Python 3"
    },
    "language_info": {
      "name": "python"
    }
  },
  "cells": [
    {
      "cell_type": "markdown",
      "metadata": {
        "id": "view-in-github",
        "colab_type": "text"
      },
      "source": [
        "<a href=\"https://colab.research.google.com/github/prasanth9989/assignment/blob/main/pspyk12.ipynb\" target=\"_parent\"><img src=\"https://colab.research.google.com/assets/colab-badge.svg\" alt=\"Open In Colab\"/></a>"
      ]
    },
    {
      "cell_type": "code",
      "execution_count": 1,
      "metadata": {
        "id": "UoH8kZvLICAR",
        "outputId": "1ca16c31-86ae-4499-ba3f-47a8a4835f0a",
        "colab": {
          "base_uri": "https://localhost:8080/"
        }
      },
      "outputs": [
        {
          "output_type": "stream",
          "name": "stdout",
          "text": [
            "Writing user_data.csv\n"
          ]
        }
      ],
      "source": [
        "#user_data\n",
        "%%writefile user_data.csv\n",
        "user_id,series,season,timestamp,genre,duration_mins\n",
        "521,”Mirzapur”,3,2024-07-30 15:00:00,action,300\n",
        "672,”Panchayat”,3,2024-07-30 15:00:00,comedy,200\n",
        "197,”Family Man”,2,2024-07-30 15:00:00,action,500\n",
        "521,”Mirzapur”,2,2024-07-29 15:00:00,action,280\n",
        "211,”Queens Gambit”,1,2024-07-30 15:00:00,drama,170\n",
        "521,”Mirzapur”,1,2024-07-28 15:00:00,action,230\n",
        "844,”Westworld”,3,2024-07-30 15:00:00,sci-fi,310\n",
        "672,”Panchayat”,3,2024-07-29 15:00:00,comedy,210\n",
        "256,”Homecoming”,2,2024-07-30 15:00:00,thriller,310\n",
        "489,”Outer Range”,1,2024-07-30 15:00:00,sci-fi,340\n",
        "200,”Black Mirror”,2,2024-07-30 15:00:00,sci-fi,140\n",
        "256,”Outer Range”,2,2024-07-30 15:00:00,thriller,250\n",
        "489,”Outer Range”,2,2024-07-28 15:00:00,sci-fi,170\n",
        "200,”Black Mirror”,3,2024-07-29 15:00:00,sci-fi,190\n",
        "672,”Panchayat”,2,2024-07-28 15:00:00,comedy,160\n",
        "672,”Outer Range”,1,2024-07-25 15:00:00,sci-fi,250\n",
        "200,”Black Mirror”,4,2024-07-28 15:00:00,sci-fi,200\n",
        "844,”Westworld”,2,2024-07-29 15:00:00,sci-fi,300\n",
        "672,”Black Mirror”,5,2024-07-28 15:00:00,sci-fi,150\n",
        "672,”Panchayat”,1,2024-07-27 15:00:00,comedy,190"
      ]
    },
    {
      "cell_type": "code",
      "source": [
        "#Import Libraries\n",
        "!pip install pyspark\n",
        "from pyspark.sql import SparkSession\n",
        "from pyspark.sql.functions import *"
      ],
      "metadata": {
        "id": "GLxzpwaSIJRA",
        "outputId": "61c6668e-b8ff-4aa9-fc5d-67a1fb01a7ac",
        "colab": {
          "base_uri": "https://localhost:8080/"
        }
      },
      "execution_count": 2,
      "outputs": [
        {
          "output_type": "stream",
          "name": "stdout",
          "text": [
            "Collecting pyspark\n",
            "  Downloading pyspark-3.5.1.tar.gz (317.0 MB)\n",
            "\u001b[2K     \u001b[90m━━━━━━━━━━━━━━━━━━━━━━━━━━━━━━━━━━━━━━━━\u001b[0m \u001b[32m317.0/317.0 MB\u001b[0m \u001b[31m2.0 MB/s\u001b[0m eta \u001b[36m0:00:00\u001b[0m\n",
            "\u001b[?25h  Preparing metadata (setup.py) ... \u001b[?25l\u001b[?25hdone\n",
            "Requirement already satisfied: py4j==0.10.9.7 in /usr/local/lib/python3.10/dist-packages (from pyspark) (0.10.9.7)\n",
            "Building wheels for collected packages: pyspark\n",
            "  Building wheel for pyspark (setup.py) ... \u001b[?25l\u001b[?25hdone\n",
            "  Created wheel for pyspark: filename=pyspark-3.5.1-py2.py3-none-any.whl size=317488490 sha256=fb4c96fd49c1fab30340a56a86cd093d700616898c1c7cb0d68234cd134c74c7\n",
            "  Stored in directory: /root/.cache/pip/wheels/80/1d/60/2c256ed38dddce2fdd93be545214a63e02fbd8d74fb0b7f3a6\n",
            "Successfully built pyspark\n",
            "Installing collected packages: pyspark\n",
            "Successfully installed pyspark-3.5.1\n"
          ]
        }
      ]
    },
    {
      "cell_type": "code",
      "source": [
        "#Create SparkSession for app (Streaming Analysis)\n",
        "spark=SparkSession.builder.appName('streaming Analysis').getOrCreate()"
      ],
      "metadata": {
        "id": "YChMWo_nIJTq"
      },
      "execution_count": 4,
      "outputs": []
    },
    {
      "cell_type": "code",
      "source": [
        "#Create Dataframe series_df\n",
        "df=spark.read.option('header','True').csv('user_data.csv')\n",
        "df.show()"
      ],
      "metadata": {
        "id": "gljhEO_IIJXB",
        "outputId": "ea62c71e-32d5-437d-8a05-5c049bc5fad2",
        "colab": {
          "base_uri": "https://localhost:8080/"
        }
      },
      "execution_count": 5,
      "outputs": [
        {
          "output_type": "stream",
          "name": "stdout",
          "text": [
            "+-------+---------------+------+-------------------+--------+-------------+\n",
            "|user_id|         series|season|          timestamp|   genre|duration_mins|\n",
            "+-------+---------------+------+-------------------+--------+-------------+\n",
            "|    521|     ”Mirzapur”|     3|2024-07-30 15:00:00|  action|          300|\n",
            "|    672|    ”Panchayat”|     3|2024-07-30 15:00:00|  comedy|          200|\n",
            "|    197|   ”Family Man”|     2|2024-07-30 15:00:00|  action|          500|\n",
            "|    521|     ”Mirzapur”|     2|2024-07-29 15:00:00|  action|          280|\n",
            "|    211|”Queens Gambit”|     1|2024-07-30 15:00:00|   drama|          170|\n",
            "|    521|     ”Mirzapur”|     1|2024-07-28 15:00:00|  action|          230|\n",
            "|    844|    ”Westworld”|     3|2024-07-30 15:00:00|  sci-fi|          310|\n",
            "|    672|    ”Panchayat”|     3|2024-07-29 15:00:00|  comedy|          210|\n",
            "|    256|   ”Homecoming”|     2|2024-07-30 15:00:00|thriller|          310|\n",
            "|    489|  ”Outer Range”|     1|2024-07-30 15:00:00|  sci-fi|          340|\n",
            "|    200| ”Black Mirror”|     2|2024-07-30 15:00:00|  sci-fi|          140|\n",
            "|    256|  ”Outer Range”|     2|2024-07-30 15:00:00|thriller|          250|\n",
            "|    489|  ”Outer Range”|     2|2024-07-28 15:00:00|  sci-fi|          170|\n",
            "|    200| ”Black Mirror”|     3|2024-07-29 15:00:00|  sci-fi|          190|\n",
            "|    672|    ”Panchayat”|     2|2024-07-28 15:00:00|  comedy|          160|\n",
            "|    672|  ”Outer Range”|     1|2024-07-25 15:00:00|  sci-fi|          250|\n",
            "|    200| ”Black Mirror”|     4|2024-07-28 15:00:00|  sci-fi|          200|\n",
            "|    844|    ”Westworld”|     2|2024-07-29 15:00:00|  sci-fi|          300|\n",
            "|    672| ”Black Mirror”|     5|2024-07-28 15:00:00|  sci-fi|          150|\n",
            "|    672|    ”Panchayat”|     1|2024-07-27 15:00:00|  comedy|          190|\n",
            "+-------+---------------+------+-------------------+--------+-------------+\n",
            "\n"
          ]
        }
      ]
    },
    {
      "cell_type": "code",
      "source": [
        "a=df.select('series').distinct().show()"
      ],
      "metadata": {
        "id": "XnSpzOfC_wDb",
        "outputId": "5433fa51-5a3e-4dae-8ba5-10c9e3f05bc4",
        "colab": {
          "base_uri": "https://localhost:8080/"
        }
      },
      "execution_count": 6,
      "outputs": [
        {
          "output_type": "stream",
          "name": "stdout",
          "text": [
            "+---------------+\n",
            "|         series|\n",
            "+---------------+\n",
            "|   ”Family Man”|\n",
            "|   ”Homecoming”|\n",
            "|    ”Panchayat”|\n",
            "|  ”Outer Range”|\n",
            "| ”Black Mirror”|\n",
            "|     ”Mirzapur”|\n",
            "|    ”Westworld”|\n",
            "|”Queens Gambit”|\n",
            "+---------------+\n",
            "\n"
          ]
        }
      ]
    },
    {
      "cell_type": "code",
      "source": [
        "#Find the user with maximum watchtime\n",
        "arr1=df.groupBy('user_id').agg({'duration_mins':'sum'}).orderBy('sum(duration_mins)',ascending=False).show(1)"
      ],
      "metadata": {
        "id": "ddoznJiZIJZI",
        "outputId": "7565384b-5c2a-413a-c26c-1a57d05a9c87",
        "colab": {
          "base_uri": "https://localhost:8080/"
        }
      },
      "execution_count": 7,
      "outputs": [
        {
          "output_type": "stream",
          "name": "stdout",
          "text": [
            "+-------+------------------+\n",
            "|user_id|sum(duration_mins)|\n",
            "+-------+------------------+\n",
            "|    672|            1160.0|\n",
            "+-------+------------------+\n",
            "only showing top 1 row\n",
            "\n"
          ]
        }
      ]
    },
    {
      "cell_type": "code",
      "source": [
        "#Calculate overall total Watchtime\n",
        "arr2=df.groupBy('user_id').agg({'duration_mins':'sum'}).show()"
      ],
      "metadata": {
        "id": "KCpeY-cyynpN",
        "outputId": "17c6dac5-fcb4-4c94-df4d-c86669524d63",
        "colab": {
          "base_uri": "https://localhost:8080/"
        }
      },
      "execution_count": 8,
      "outputs": [
        {
          "output_type": "stream",
          "name": "stdout",
          "text": [
            "+-------+------------------+\n",
            "|user_id|sum(duration_mins)|\n",
            "+-------+------------------+\n",
            "|    521|             810.0|\n",
            "|    200|             530.0|\n",
            "|    672|            1160.0|\n",
            "|    256|             560.0|\n",
            "|    197|             500.0|\n",
            "|    211|             170.0|\n",
            "|    844|             610.0|\n",
            "|    489|             510.0|\n",
            "+-------+------------------+\n",
            "\n"
          ]
        }
      ]
    },
    {
      "cell_type": "code",
      "source": [
        "#Find most popular shows (based on watchtime)\n",
        "arr3=df.groupBy('series','genre').agg({'duration_mins':'sum'}).orderBy('sum(duration_mins)',ascending=False).show()"
      ],
      "metadata": {
        "id": "SMnElt2ZIJbJ",
        "outputId": "d6f2392b-b260-43a5-e73d-e2725130ddd7",
        "colab": {
          "base_uri": "https://localhost:8080/"
        }
      },
      "execution_count": 9,
      "outputs": [
        {
          "output_type": "stream",
          "name": "stdout",
          "text": [
            "+---------------+--------+------------------+\n",
            "|         series|   genre|sum(duration_mins)|\n",
            "+---------------+--------+------------------+\n",
            "|     ”Mirzapur”|  action|             810.0|\n",
            "|  ”Outer Range”|  sci-fi|             760.0|\n",
            "|    ”Panchayat”|  comedy|             760.0|\n",
            "| ”Black Mirror”|  sci-fi|             680.0|\n",
            "|    ”Westworld”|  sci-fi|             610.0|\n",
            "|   ”Family Man”|  action|             500.0|\n",
            "|   ”Homecoming”|thriller|             310.0|\n",
            "|  ”Outer Range”|thriller|             250.0|\n",
            "|”Queens Gambit”|   drama|             170.0|\n",
            "+---------------+--------+------------------+\n",
            "\n"
          ]
        }
      ]
    },
    {
      "cell_type": "code",
      "source": [
        "#Find most popular shows (based on user popularity)\n",
        "arr4=df.groupBy('series').agg({'user_id':'count'}).orderBy('count(user_id)',ascending=False).show()"
      ],
      "metadata": {
        "id": "-W2oNioNIJem",
        "outputId": "4408bc9f-9694-4884-885f-bb65c606cc7a",
        "colab": {
          "base_uri": "https://localhost:8080/"
        }
      },
      "execution_count": 10,
      "outputs": [
        {
          "output_type": "stream",
          "name": "stdout",
          "text": [
            "+---------------+--------------+\n",
            "|         series|count(user_id)|\n",
            "+---------------+--------------+\n",
            "|    ”Panchayat”|             4|\n",
            "|  ”Outer Range”|             4|\n",
            "| ”Black Mirror”|             4|\n",
            "|     ”Mirzapur”|             3|\n",
            "|    ”Westworld”|             2|\n",
            "|   ”Family Man”|             1|\n",
            "|   ”Homecoming”|             1|\n",
            "|”Queens Gambit”|             1|\n",
            "+---------------+--------------+\n",
            "\n"
          ]
        }
      ]
    },
    {
      "cell_type": "code",
      "source": [
        "#Find the most popular genre\n",
        "arr5=df.groupBy('genre').agg({'genre':'count'}).orderBy('count(genre)',ascending=False).show(1)"
      ],
      "metadata": {
        "id": "Z-RpLlNFIJgk",
        "outputId": "b5d9a4b3-4a50-4398-8d80-e26b1f471d6e",
        "colab": {
          "base_uri": "https://localhost:8080/"
        }
      },
      "execution_count": 11,
      "outputs": [
        {
          "output_type": "stream",
          "name": "stdout",
          "text": [
            "+------+------------+\n",
            "| genre|count(genre)|\n",
            "+------+------------+\n",
            "|sci-fi|           9|\n",
            "+------+------------+\n",
            "only showing top 1 row\n",
            "\n"
          ]
        }
      ]
    },
    {
      "cell_type": "code",
      "source": [
        "#Calculate total watchtime per user\n",
        "arr6=df.groupBy('user_id').agg({'duration_mins':'sum'}).show()"
      ],
      "metadata": {
        "id": "vm_-_AUWIJis",
        "outputId": "830eded2-06b0-4104-b0ba-55b19aaa1e01",
        "colab": {
          "base_uri": "https://localhost:8080/"
        }
      },
      "execution_count": 12,
      "outputs": [
        {
          "output_type": "stream",
          "name": "stdout",
          "text": [
            "+-------+------------------+\n",
            "|user_id|sum(duration_mins)|\n",
            "+-------+------------------+\n",
            "|    521|             810.0|\n",
            "|    200|             530.0|\n",
            "|    672|            1160.0|\n",
            "|    256|             560.0|\n",
            "|    197|             500.0|\n",
            "|    211|             170.0|\n",
            "|    844|             610.0|\n",
            "|    489|             510.0|\n",
            "+-------+------------------+\n",
            "\n"
          ]
        }
      ]
    },
    {
      "cell_type": "code",
      "source": [
        "df.show()"
      ],
      "metadata": {
        "id": "b0mieLXE918M",
        "outputId": "75a2c804-d0a9-4be1-f564-ef3e870dced6",
        "colab": {
          "base_uri": "https://localhost:8080/"
        }
      },
      "execution_count": 13,
      "outputs": [
        {
          "output_type": "stream",
          "name": "stdout",
          "text": [
            "+-------+---------------+------+-------------------+--------+-------------+\n",
            "|user_id|         series|season|          timestamp|   genre|duration_mins|\n",
            "+-------+---------------+------+-------------------+--------+-------------+\n",
            "|    521|     ”Mirzapur”|     3|2024-07-30 15:00:00|  action|          300|\n",
            "|    672|    ”Panchayat”|     3|2024-07-30 15:00:00|  comedy|          200|\n",
            "|    197|   ”Family Man”|     2|2024-07-30 15:00:00|  action|          500|\n",
            "|    521|     ”Mirzapur”|     2|2024-07-29 15:00:00|  action|          280|\n",
            "|    211|”Queens Gambit”|     1|2024-07-30 15:00:00|   drama|          170|\n",
            "|    521|     ”Mirzapur”|     1|2024-07-28 15:00:00|  action|          230|\n",
            "|    844|    ”Westworld”|     3|2024-07-30 15:00:00|  sci-fi|          310|\n",
            "|    672|    ”Panchayat”|     3|2024-07-29 15:00:00|  comedy|          210|\n",
            "|    256|   ”Homecoming”|     2|2024-07-30 15:00:00|thriller|          310|\n",
            "|    489|  ”Outer Range”|     1|2024-07-30 15:00:00|  sci-fi|          340|\n",
            "|    200| ”Black Mirror”|     2|2024-07-30 15:00:00|  sci-fi|          140|\n",
            "|    256|  ”Outer Range”|     2|2024-07-30 15:00:00|thriller|          250|\n",
            "|    489|  ”Outer Range”|     2|2024-07-28 15:00:00|  sci-fi|          170|\n",
            "|    200| ”Black Mirror”|     3|2024-07-29 15:00:00|  sci-fi|          190|\n",
            "|    672|    ”Panchayat”|     2|2024-07-28 15:00:00|  comedy|          160|\n",
            "|    672|  ”Outer Range”|     1|2024-07-25 15:00:00|  sci-fi|          250|\n",
            "|    200| ”Black Mirror”|     4|2024-07-28 15:00:00|  sci-fi|          200|\n",
            "|    844|    ”Westworld”|     2|2024-07-29 15:00:00|  sci-fi|          300|\n",
            "|    672| ”Black Mirror”|     5|2024-07-28 15:00:00|  sci-fi|          150|\n",
            "|    672|    ”Panchayat”|     1|2024-07-27 15:00:00|  comedy|          190|\n",
            "+-------+---------------+------+-------------------+--------+-------------+\n",
            "\n"
          ]
        }
      ]
    },
    {
      "cell_type": "code",
      "source": [
        "#Find most popular genre (based on engagement count)\n",
        "arr7=df.groupBy('genre').agg({'duration_mins':'count'}).show()"
      ],
      "metadata": {
        "id": "l-DuDyiOIJlG",
        "outputId": "d2c3ce6d-9459-46b1-deb0-2c3fb3b1d710",
        "colab": {
          "base_uri": "https://localhost:8080/"
        }
      },
      "execution_count": 14,
      "outputs": [
        {
          "output_type": "stream",
          "name": "stdout",
          "text": [
            "+--------+--------------------+\n",
            "|   genre|count(duration_mins)|\n",
            "+--------+--------------------+\n",
            "|  action|                   4|\n",
            "|   drama|                   1|\n",
            "|thriller|                   2|\n",
            "|  sci-fi|                   9|\n",
            "|  comedy|                   4|\n",
            "+--------+--------------------+\n",
            "\n"
          ]
        }
      ]
    },
    {
      "cell_type": "code",
      "source": [
        "arr8=df.groupBy('genre').agg({'genre':'count'}).show()"
      ],
      "metadata": {
        "id": "ZWJ-YE8_Ewmt",
        "outputId": "90726729-3b97-4e46-ba38-8e6d32d84c5d",
        "colab": {
          "base_uri": "https://localhost:8080/"
        }
      },
      "execution_count": 15,
      "outputs": [
        {
          "output_type": "stream",
          "name": "stdout",
          "text": [
            "+--------+------------+\n",
            "|   genre|count(genre)|\n",
            "+--------+------------+\n",
            "|  action|           4|\n",
            "|   drama|           1|\n",
            "|thriller|           2|\n",
            "|  sci-fi|           9|\n",
            "|  comedy|           4|\n",
            "+--------+------------+\n",
            "\n"
          ]
        }
      ]
    },
    {
      "cell_type": "code",
      "source": [
        "#Find average watchtime per genre\n",
        "arr9=df.groupBy('genre').agg({'duration_mins':'avg'}).show()"
      ],
      "metadata": {
        "id": "yFFZh-NFIJnQ",
        "outputId": "e6d7f235-b327-4de8-8cd1-eadfb56521d7",
        "colab": {
          "base_uri": "https://localhost:8080/"
        }
      },
      "execution_count": 16,
      "outputs": [
        {
          "output_type": "stream",
          "name": "stdout",
          "text": [
            "+--------+------------------+\n",
            "|   genre|avg(duration_mins)|\n",
            "+--------+------------------+\n",
            "|  action|             327.5|\n",
            "|   drama|             170.0|\n",
            "|thriller|             280.0|\n",
            "|  sci-fi|227.77777777777777|\n",
            "|  comedy|             190.0|\n",
            "+--------+------------------+\n",
            "\n"
          ]
        }
      ]
    },
    {
      "cell_type": "code",
      "source": [
        "df.show()"
      ],
      "metadata": {
        "id": "smTeBYX9FlGR",
        "outputId": "ba176868-4429-470f-ebb3-e848e91dcd45",
        "colab": {
          "base_uri": "https://localhost:8080/"
        }
      },
      "execution_count": 17,
      "outputs": [
        {
          "output_type": "stream",
          "name": "stdout",
          "text": [
            "+-------+---------------+------+-------------------+--------+-------------+\n",
            "|user_id|         series|season|          timestamp|   genre|duration_mins|\n",
            "+-------+---------------+------+-------------------+--------+-------------+\n",
            "|    521|     ”Mirzapur”|     3|2024-07-30 15:00:00|  action|          300|\n",
            "|    672|    ”Panchayat”|     3|2024-07-30 15:00:00|  comedy|          200|\n",
            "|    197|   ”Family Man”|     2|2024-07-30 15:00:00|  action|          500|\n",
            "|    521|     ”Mirzapur”|     2|2024-07-29 15:00:00|  action|          280|\n",
            "|    211|”Queens Gambit”|     1|2024-07-30 15:00:00|   drama|          170|\n",
            "|    521|     ”Mirzapur”|     1|2024-07-28 15:00:00|  action|          230|\n",
            "|    844|    ”Westworld”|     3|2024-07-30 15:00:00|  sci-fi|          310|\n",
            "|    672|    ”Panchayat”|     3|2024-07-29 15:00:00|  comedy|          210|\n",
            "|    256|   ”Homecoming”|     2|2024-07-30 15:00:00|thriller|          310|\n",
            "|    489|  ”Outer Range”|     1|2024-07-30 15:00:00|  sci-fi|          340|\n",
            "|    200| ”Black Mirror”|     2|2024-07-30 15:00:00|  sci-fi|          140|\n",
            "|    256|  ”Outer Range”|     2|2024-07-30 15:00:00|thriller|          250|\n",
            "|    489|  ”Outer Range”|     2|2024-07-28 15:00:00|  sci-fi|          170|\n",
            "|    200| ”Black Mirror”|     3|2024-07-29 15:00:00|  sci-fi|          190|\n",
            "|    672|    ”Panchayat”|     2|2024-07-28 15:00:00|  comedy|          160|\n",
            "|    672|  ”Outer Range”|     1|2024-07-25 15:00:00|  sci-fi|          250|\n",
            "|    200| ”Black Mirror”|     4|2024-07-28 15:00:00|  sci-fi|          200|\n",
            "|    844|    ”Westworld”|     2|2024-07-29 15:00:00|  sci-fi|          300|\n",
            "|    672| ”Black Mirror”|     5|2024-07-28 15:00:00|  sci-fi|          150|\n",
            "|    672|    ”Panchayat”|     1|2024-07-27 15:00:00|  comedy|          190|\n",
            "+-------+---------------+------+-------------------+--------+-------------+\n",
            "\n"
          ]
        }
      ]
    },
    {
      "cell_type": "code",
      "source": [
        "#Find peak traffic days\n",
        "#(Output 1 = Full Date)\n",
        "arr10=df.groupBy(to_date('timestamp')).agg(count('timestamp')).orderBy('count(timestamp)',ascending=False)\n",
        "arr10.select('to_date(timestamp)').show(1)\n"
      ],
      "metadata": {
        "id": "HzXnysiXIJpq",
        "outputId": "f57cc147-da35-487c-cc9c-e4afe180ce74",
        "colab": {
          "base_uri": "https://localhost:8080/"
        }
      },
      "execution_count": 18,
      "outputs": [
        {
          "output_type": "stream",
          "name": "stdout",
          "text": [
            "+------------------+\n",
            "|to_date(timestamp)|\n",
            "+------------------+\n",
            "|        2024-07-30|\n",
            "+------------------+\n",
            "only showing top 1 row\n",
            "\n"
          ]
        }
      ]
    },
    {
      "cell_type": "code",
      "source": [
        "#(Output 2 = Only Day)\n",
        "arr10=df.groupBy(dayofmonth('timestamp')).agg(count('timestamp')).orderBy('count(timestamp)',ascending=False)\n",
        "arr10.select('dayofmonth(timestamp)').show(1)\n"
      ],
      "metadata": {
        "id": "2GnNbZ66XnM4",
        "outputId": "b5da7eba-7831-4f7c-d96e-b305d6af59d5",
        "colab": {
          "base_uri": "https://localhost:8080/"
        }
      },
      "execution_count": 19,
      "outputs": [
        {
          "output_type": "stream",
          "name": "stdout",
          "text": [
            "+---------------------+\n",
            "|dayofmonth(timestamp)|\n",
            "+---------------------+\n",
            "|                   30|\n",
            "+---------------------+\n",
            "only showing top 1 row\n",
            "\n"
          ]
        }
      ]
    },
    {
      "cell_type": "code",
      "source": [
        "df.show()"
      ],
      "metadata": {
        "id": "fgIFrYiQfAPn",
        "outputId": "4feee62e-1212-4d66-86c7-a88103f890a7",
        "colab": {
          "base_uri": "https://localhost:8080/"
        }
      },
      "execution_count": 20,
      "outputs": [
        {
          "output_type": "stream",
          "name": "stdout",
          "text": [
            "+-------+---------------+------+-------------------+--------+-------------+\n",
            "|user_id|         series|season|          timestamp|   genre|duration_mins|\n",
            "+-------+---------------+------+-------------------+--------+-------------+\n",
            "|    521|     ”Mirzapur”|     3|2024-07-30 15:00:00|  action|          300|\n",
            "|    672|    ”Panchayat”|     3|2024-07-30 15:00:00|  comedy|          200|\n",
            "|    197|   ”Family Man”|     2|2024-07-30 15:00:00|  action|          500|\n",
            "|    521|     ”Mirzapur”|     2|2024-07-29 15:00:00|  action|          280|\n",
            "|    211|”Queens Gambit”|     1|2024-07-30 15:00:00|   drama|          170|\n",
            "|    521|     ”Mirzapur”|     1|2024-07-28 15:00:00|  action|          230|\n",
            "|    844|    ”Westworld”|     3|2024-07-30 15:00:00|  sci-fi|          310|\n",
            "|    672|    ”Panchayat”|     3|2024-07-29 15:00:00|  comedy|          210|\n",
            "|    256|   ”Homecoming”|     2|2024-07-30 15:00:00|thriller|          310|\n",
            "|    489|  ”Outer Range”|     1|2024-07-30 15:00:00|  sci-fi|          340|\n",
            "|    200| ”Black Mirror”|     2|2024-07-30 15:00:00|  sci-fi|          140|\n",
            "|    256|  ”Outer Range”|     2|2024-07-30 15:00:00|thriller|          250|\n",
            "|    489|  ”Outer Range”|     2|2024-07-28 15:00:00|  sci-fi|          170|\n",
            "|    200| ”Black Mirror”|     3|2024-07-29 15:00:00|  sci-fi|          190|\n",
            "|    672|    ”Panchayat”|     2|2024-07-28 15:00:00|  comedy|          160|\n",
            "|    672|  ”Outer Range”|     1|2024-07-25 15:00:00|  sci-fi|          250|\n",
            "|    200| ”Black Mirror”|     4|2024-07-28 15:00:00|  sci-fi|          200|\n",
            "|    844|    ”Westworld”|     2|2024-07-29 15:00:00|  sci-fi|          300|\n",
            "|    672| ”Black Mirror”|     5|2024-07-28 15:00:00|  sci-fi|          150|\n",
            "|    672|    ”Panchayat”|     1|2024-07-27 15:00:00|  comedy|          190|\n",
            "+-------+---------------+------+-------------------+--------+-------------+\n",
            "\n"
          ]
        }
      ]
    },
    {
      "cell_type": "code",
      "source": [
        "#Find the user with most diverse show preference\n",
        "df.groupBy('user_id').agg({'series':'count'}).orderBy('count(series)',ascending=False).limit(1).collect()[0][0]\n"
      ],
      "metadata": {
        "id": "yY7SlM8yIJsz",
        "outputId": "970de68d-c312-4bbb-fe8c-ad912f6d0284",
        "colab": {
          "base_uri": "https://localhost:8080/",
          "height": 35
        }
      },
      "execution_count": 24,
      "outputs": [
        {
          "output_type": "execute_result",
          "data": {
            "text/plain": [
              "'672'"
            ],
            "application/vnd.google.colaboratory.intrinsic+json": {
              "type": "string"
            }
          },
          "metadata": {},
          "execution_count": 24
        }
      ]
    },
    {
      "cell_type": "code",
      "source": [
        "#Find the binge-watchers\n",
        "df1=df.groupBy('user_id','timestamp','series').agg({'season':'count'}).withColumnRenamed('count(season)','count').orderBy('user_id')\n",
        "df2=df.groupBy('series').agg({'season':'max'}).withColumnRenamed('max(season)','max')\n",
        "df3=df1.join(df2,on='series',how='inner')\n",
        "df3.show()\n",
        "df3.filter(col('count')==col('max')).collect()[0][1]"
      ],
      "metadata": {
        "id": "9UMeWCk-IJvK",
        "outputId": "29b49673-943d-40b1-c34d-34c140dacc1e",
        "colab": {
          "base_uri": "https://localhost:8080/",
          "height": 469
        }
      },
      "execution_count": 28,
      "outputs": [
        {
          "output_type": "stream",
          "name": "stdout",
          "text": [
            "+---------------+-------+-------------------+-----+---+\n",
            "|         series|user_id|          timestamp|count|max|\n",
            "+---------------+-------+-------------------+-----+---+\n",
            "|     ”Mirzapur”|    521|2024-07-30 15:00:00|    1|  3|\n",
            "|    ”Westworld”|    844|2024-07-30 15:00:00|    1|  3|\n",
            "| ”Black Mirror”|    672|2024-07-28 15:00:00|    1|  5|\n",
            "|   ”Homecoming”|    256|2024-07-30 15:00:00|    1|  2|\n",
            "| ”Black Mirror”|    200|2024-07-29 15:00:00|    1|  5|\n",
            "|  ”Outer Range”|    672|2024-07-25 15:00:00|    1|  2|\n",
            "|  ”Outer Range”|    489|2024-07-28 15:00:00|    1|  2|\n",
            "|  ”Outer Range”|    256|2024-07-30 15:00:00|    1|  2|\n",
            "|    ”Panchayat”|    672|2024-07-27 15:00:00|    1|  3|\n",
            "|  ”Outer Range”|    489|2024-07-30 15:00:00|    1|  2|\n",
            "|    ”Panchayat”|    672|2024-07-29 15:00:00|    1|  3|\n",
            "|     ”Mirzapur”|    521|2024-07-28 15:00:00|    1|  3|\n",
            "|”Queens Gambit”|    211|2024-07-30 15:00:00|    1|  1|\n",
            "| ”Black Mirror”|    200|2024-07-28 15:00:00|    1|  5|\n",
            "|    ”Panchayat”|    672|2024-07-30 15:00:00|    1|  3|\n",
            "|    ”Panchayat”|    672|2024-07-28 15:00:00|    1|  3|\n",
            "|    ”Westworld”|    844|2024-07-29 15:00:00|    1|  3|\n",
            "|   ”Family Man”|    197|2024-07-30 15:00:00|    1|  2|\n",
            "| ”Black Mirror”|    200|2024-07-30 15:00:00|    1|  5|\n",
            "|     ”Mirzapur”|    521|2024-07-29 15:00:00|    1|  3|\n",
            "+---------------+-------+-------------------+-----+---+\n",
            "\n"
          ]
        },
        {
          "output_type": "execute_result",
          "data": {
            "text/plain": [
              "'211'"
            ],
            "application/vnd.google.colaboratory.intrinsic+json": {
              "type": "string"
            }
          },
          "metadata": {},
          "execution_count": 28
        }
      ]
    },
    {
      "cell_type": "code",
      "source": [
        "#Find the user with longest watching streak\n",
        "df.groupBy('user_id').agg({'timestamp':'count'}).orderBy('count(timestamp)',ascending=False).show(1)\n"
      ],
      "metadata": {
        "id": "14CBZwe2M3rZ",
        "outputId": "3dcaa8cb-7379-4fd4-cbbd-060d34c5f000",
        "colab": {
          "base_uri": "https://localhost:8080/"
        }
      },
      "execution_count": 25,
      "outputs": [
        {
          "output_type": "stream",
          "name": "stdout",
          "text": [
            "+-------+----------------+\n",
            "|user_id|count(timestamp)|\n",
            "+-------+----------------+\n",
            "|    672|               6|\n",
            "+-------+----------------+\n",
            "only showing top 1 row\n",
            "\n"
          ]
        }
      ]
    },
    {
      "cell_type": "code",
      "source": [
        "#Total Seasons available\n",
        "arr12=df.groupBy('series').agg(max('season')).orderBy('max(season)',ascending=False).show()"
      ],
      "metadata": {
        "id": "X0HCvFNbye9Y",
        "outputId": "c565fd37-ce82-44d1-bb04-e88f062bafd1",
        "colab": {
          "base_uri": "https://localhost:8080/"
        }
      },
      "execution_count": 22,
      "outputs": [
        {
          "output_type": "stream",
          "name": "stdout",
          "text": [
            "+---------------+-----------+\n",
            "|         series|max(season)|\n",
            "+---------------+-----------+\n",
            "| ”Black Mirror”|          5|\n",
            "|     ”Mirzapur”|          3|\n",
            "|    ”Panchayat”|          3|\n",
            "|    ”Westworld”|          3|\n",
            "|   ”Family Man”|          2|\n",
            "|   ”Homecoming”|          2|\n",
            "|  ”Outer Range”|          2|\n",
            "|”Queens Gambit”|          1|\n",
            "+---------------+-----------+\n",
            "\n"
          ]
        }
      ]
    },
    {
      "cell_type": "code",
      "source": [
        "#Fetch a list of all series\n",
        "arr13=df.select('series').distinct()\n",
        "arr13.rdd.flatMap(lambda x:[x[0]]).collect()"
      ],
      "metadata": {
        "id": "weylH9PDM3uU",
        "outputId": "6d3666dd-3b5f-4dfe-d4d4-bf049a45acbe",
        "colab": {
          "base_uri": "https://localhost:8080/"
        }
      },
      "execution_count": 23,
      "outputs": [
        {
          "output_type": "execute_result",
          "data": {
            "text/plain": [
              "['”Family Man”',\n",
              " '”Homecoming”',\n",
              " '”Panchayat”',\n",
              " '”Outer Range”',\n",
              " '”Black Mirror”',\n",
              " '”Mirzapur”',\n",
              " '”Westworld”',\n",
              " '”Queens Gambit”']"
            ]
          },
          "metadata": {},
          "execution_count": 23
        }
      ]
    },
    {
      "cell_type": "code",
      "source": [],
      "metadata": {
        "id": "EXx9TXavbuIK"
      },
      "execution_count": null,
      "outputs": []
    }
  ]
}