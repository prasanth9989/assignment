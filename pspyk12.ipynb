{
  "nbformat": 4,
  "nbformat_minor": 0,
  "metadata": {
    "colab": {
      "provenance": [],
      "include_colab_link": true
    },
    "kernelspec": {
      "name": "python3",
      "display_name": "Python 3"
    },
    "language_info": {
      "name": "python"
    }
  },
  "cells": [
    {
      "cell_type": "markdown",
      "metadata": {
        "id": "view-in-github",
        "colab_type": "text"
      },
      "source": [
        "<a href=\"https://colab.research.google.com/github/prasanth9989/assignment/blob/main/pspyk12.ipynb\" target=\"_parent\"><img src=\"https://colab.research.google.com/assets/colab-badge.svg\" alt=\"Open In Colab\"/></a>"
      ]
    },
    {
      "cell_type": "code",
      "execution_count": 43,
      "metadata": {
        "id": "UoH8kZvLICAR",
        "outputId": "f01f403d-ccb3-43f0-9938-ed415d8f35d5",
        "colab": {
          "base_uri": "https://localhost:8080/"
        }
      },
      "outputs": [
        {
          "output_type": "stream",
          "name": "stdout",
          "text": [
            "Overwriting user_data.csv\n"
          ]
        }
      ],
      "source": [
        "#user_data\n",
        "%%writefile user_data.csv\n",
        "user_id,series,season,timestamp,genre,duration_mins\n",
        "521,”Mirzapur”,3,2024-07-30 15:00:00,action,300\n",
        "672,”Panchayat”,3,2024-07-30 15:00:00,comedy,200\n",
        "197,”Family Man”,2,2024-07-30 15:00:00,action,500\n",
        "521,”Mirzapur”,2,2024-07-29 15:00:00,action,280\n",
        "211,”Queens Gambit”,1,2024-07-30 15:00:00,drama,170\n",
        "521,”Mirzapur”,1,2024-07-28 15:00:00,action,230\n",
        "844,”Westworld”,3,2024-07-30 15:00:00,sci-fi,310\n",
        "672,”Panchayat”,3,2024-07-29 15:00:00,comedy,210\n",
        "256,”Homecoming”,2,2024-07-30 15:00:00,thriller,310\n",
        "489,”Outer Range”,1,2024-07-30 15:00:00,sci-fi,340\n",
        "200,”Black Mirror”,2,2024-07-30 15:00:00,sci-fi,140\n",
        "256,”Outer Range”,2,2024-07-30 15:00:00,thriller,250\n",
        "489,”Outer Range”,2,2024-07-28 15:00:00,sci-fi,170\n",
        "200,”Black Mirror”,3,2024-07-29 15:00:00,sci-fi,190\n",
        "672,”Panchayat”,2,2024-07-28 15:00:00,comedy,160\n",
        "672,”Outer Range”,1,2024-07-25 15:00:00,sci-fi,250\n",
        "200,”Black Mirror”,4,2024-07-28 15:00:00,sci-fi,200\n",
        "844,”Westworld”,2,2024-07-29 15:00:00,sci-fi,300\n",
        "672,”Black Mirror”,5,2024-07-28 15:00:00,sci-fi,150\n",
        "672,”Panchayat”,1,2024-07-27 15:00:00,comedy,190"
      ]
    },
    {
      "cell_type": "code",
      "source": [
        "#Import Libraries\n",
        "!pip install pyspark\n",
        "from pyspark.sql import SparkSession\n",
        "from pyspark.sql.functions import *"
      ],
      "metadata": {
        "id": "GLxzpwaSIJRA",
        "outputId": "3081f709-fd4c-45c9-9bc4-38444afb8280",
        "colab": {
          "base_uri": "https://localhost:8080/"
        }
      },
      "execution_count": 44,
      "outputs": [
        {
          "output_type": "stream",
          "name": "stdout",
          "text": [
            "Requirement already satisfied: pyspark in /usr/local/lib/python3.10/dist-packages (3.5.1)\n",
            "Requirement already satisfied: py4j==0.10.9.7 in /usr/local/lib/python3.10/dist-packages (from pyspark) (0.10.9.7)\n"
          ]
        }
      ]
    },
    {
      "cell_type": "code",
      "source": [
        "#Create SparkSession for app (Streaming Analysis)\n",
        "spark=SparkSession.builder.appName('streaming Analysis').getOrCreate()"
      ],
      "metadata": {
        "id": "YChMWo_nIJTq"
      },
      "execution_count": 45,
      "outputs": []
    },
    {
      "cell_type": "code",
      "source": [
        "#Create Dataframe series_df\n",
        "df=spark.read.option('header','True').csv('user_data.csv')\n",
        "df.show()"
      ],
      "metadata": {
        "id": "gljhEO_IIJXB",
        "outputId": "100613de-123f-4d5d-9b5b-5ca3cd39feb7",
        "colab": {
          "base_uri": "https://localhost:8080/"
        }
      },
      "execution_count": 47,
      "outputs": [
        {
          "output_type": "stream",
          "name": "stdout",
          "text": [
            "+-------+---------------+------+-------------------+--------+-------------+\n",
            "|user_id|         series|season|          timestamp|   genre|duration_mins|\n",
            "+-------+---------------+------+-------------------+--------+-------------+\n",
            "|    521|     ”Mirzapur”|     3|2024-07-30 15:00:00|  action|          300|\n",
            "|    672|    ”Panchayat”|     3|2024-07-30 15:00:00|  comedy|          200|\n",
            "|    197|   ”Family Man”|     2|2024-07-30 15:00:00|  action|          500|\n",
            "|    521|     ”Mirzapur”|     2|2024-07-29 15:00:00|  action|          280|\n",
            "|    211|”Queens Gambit”|     1|2024-07-30 15:00:00|   drama|          170|\n",
            "|    521|     ”Mirzapur”|     1|2024-07-28 15:00:00|  action|          230|\n",
            "|    844|    ”Westworld”|     3|2024-07-30 15:00:00|  sci-fi|          310|\n",
            "|    672|    ”Panchayat”|     3|2024-07-29 15:00:00|  comedy|          210|\n",
            "|    256|   ”Homecoming”|     2|2024-07-30 15:00:00|thriller|          310|\n",
            "|    489|  ”Outer Range”|     1|2024-07-30 15:00:00|  sci-fi|          340|\n",
            "|    200| ”Black Mirror”|     2|2024-07-30 15:00:00|  sci-fi|          140|\n",
            "|    256|  ”Outer Range”|     2|2024-07-30 15:00:00|thriller|          250|\n",
            "|    489|  ”Outer Range”|     2|2024-07-28 15:00:00|  sci-fi|          170|\n",
            "|    200| ”Black Mirror”|     3|2024-07-29 15:00:00|  sci-fi|          190|\n",
            "|    672|    ”Panchayat”|     2|2024-07-28 15:00:00|  comedy|          160|\n",
            "|    672|  ”Outer Range”|     1|2024-07-25 15:00:00|  sci-fi|          250|\n",
            "|    200| ”Black Mirror”|     4|2024-07-28 15:00:00|  sci-fi|          200|\n",
            "|    844|    ”Westworld”|     2|2024-07-29 15:00:00|  sci-fi|          300|\n",
            "|    672| ”Black Mirror”|     5|2024-07-28 15:00:00|  sci-fi|          150|\n",
            "|    672|    ”Panchayat”|     1|2024-07-27 15:00:00|  comedy|          190|\n",
            "+-------+---------------+------+-------------------+--------+-------------+\n",
            "\n"
          ]
        }
      ]
    },
    {
      "cell_type": "code",
      "source": [
        "a=df.select('series').distinct().show()"
      ],
      "metadata": {
        "id": "XnSpzOfC_wDb",
        "outputId": "a76c8c9a-d1b4-47f0-9e86-edb419097a2c",
        "colab": {
          "base_uri": "https://localhost:8080/"
        }
      },
      "execution_count": 48,
      "outputs": [
        {
          "output_type": "stream",
          "name": "stdout",
          "text": [
            "+---------------+\n",
            "|         series|\n",
            "+---------------+\n",
            "|   ”Family Man”|\n",
            "|   ”Homecoming”|\n",
            "|    ”Panchayat”|\n",
            "|  ”Outer Range”|\n",
            "| ”Black Mirror”|\n",
            "|     ”Mirzapur”|\n",
            "|    ”Westworld”|\n",
            "|”Queens Gambit”|\n",
            "+---------------+\n",
            "\n"
          ]
        }
      ]
    },
    {
      "cell_type": "code",
      "source": [
        "#Find the user with maximum watchtime\n",
        "arr1=df.groupBy('user_id').agg({'duration_mins':'sum'}).orderBy('sum(duration_mins)',ascending=False).show(1)"
      ],
      "metadata": {
        "id": "ddoznJiZIJZI",
        "outputId": "e6cd453f-57b0-4d05-d96b-a1c08183651b",
        "colab": {
          "base_uri": "https://localhost:8080/"
        }
      },
      "execution_count": 49,
      "outputs": [
        {
          "output_type": "stream",
          "name": "stdout",
          "text": [
            "+-------+------------------+\n",
            "|user_id|sum(duration_mins)|\n",
            "+-------+------------------+\n",
            "|    672|            1160.0|\n",
            "+-------+------------------+\n",
            "only showing top 1 row\n",
            "\n"
          ]
        }
      ]
    },
    {
      "cell_type": "code",
      "source": [
        "#Calculate overall total Watchtime\n",
        "arr2=df.groupBy('user_id').agg({'duration_mins':'sum'}).show()"
      ],
      "metadata": {
        "id": "KCpeY-cyynpN",
        "outputId": "6154c2ea-cb35-4876-c125-be156e3ac722",
        "colab": {
          "base_uri": "https://localhost:8080/"
        }
      },
      "execution_count": 50,
      "outputs": [
        {
          "output_type": "stream",
          "name": "stdout",
          "text": [
            "+-------+------------------+\n",
            "|user_id|sum(duration_mins)|\n",
            "+-------+------------------+\n",
            "|    521|             810.0|\n",
            "|    200|             530.0|\n",
            "|    672|            1160.0|\n",
            "|    256|             560.0|\n",
            "|    197|             500.0|\n",
            "|    211|             170.0|\n",
            "|    844|             610.0|\n",
            "|    489|             510.0|\n",
            "+-------+------------------+\n",
            "\n"
          ]
        }
      ]
    },
    {
      "cell_type": "code",
      "source": [
        "#Find most popular shows (based on watchtime)\n",
        "arr3=df.groupBy('series','genre').agg({'duration_mins':'sum'}).orderBy('sum(duration_mins)',ascending=False).show()"
      ],
      "metadata": {
        "id": "SMnElt2ZIJbJ",
        "outputId": "2c0eed63-8ae9-4dc0-e2ff-04b3ec77f748",
        "colab": {
          "base_uri": "https://localhost:8080/"
        }
      },
      "execution_count": 51,
      "outputs": [
        {
          "output_type": "stream",
          "name": "stdout",
          "text": [
            "+---------------+--------+------------------+\n",
            "|         series|   genre|sum(duration_mins)|\n",
            "+---------------+--------+------------------+\n",
            "|     ”Mirzapur”|  action|             810.0|\n",
            "|  ”Outer Range”|  sci-fi|             760.0|\n",
            "|    ”Panchayat”|  comedy|             760.0|\n",
            "| ”Black Mirror”|  sci-fi|             680.0|\n",
            "|    ”Westworld”|  sci-fi|             610.0|\n",
            "|   ”Family Man”|  action|             500.0|\n",
            "|   ”Homecoming”|thriller|             310.0|\n",
            "|  ”Outer Range”|thriller|             250.0|\n",
            "|”Queens Gambit”|   drama|             170.0|\n",
            "+---------------+--------+------------------+\n",
            "\n"
          ]
        }
      ]
    },
    {
      "cell_type": "code",
      "source": [
        "#Find most popular shows (based on user popularity)\n",
        "arr4=df.groupBy('series').agg({'user_id':'count'}).orderBy('count(user_id)',ascending=False).show()"
      ],
      "metadata": {
        "id": "-W2oNioNIJem",
        "outputId": "9bd069b7-1d31-49f7-8dd3-59d8c256e330",
        "colab": {
          "base_uri": "https://localhost:8080/"
        }
      },
      "execution_count": 52,
      "outputs": [
        {
          "output_type": "stream",
          "name": "stdout",
          "text": [
            "+---------------+--------------+\n",
            "|         series|count(user_id)|\n",
            "+---------------+--------------+\n",
            "|    ”Panchayat”|             4|\n",
            "|  ”Outer Range”|             4|\n",
            "| ”Black Mirror”|             4|\n",
            "|     ”Mirzapur”|             3|\n",
            "|    ”Westworld”|             2|\n",
            "|   ”Family Man”|             1|\n",
            "|   ”Homecoming”|             1|\n",
            "|”Queens Gambit”|             1|\n",
            "+---------------+--------------+\n",
            "\n"
          ]
        }
      ]
    },
    {
      "cell_type": "code",
      "source": [
        "#Find the most popular genre\n",
        "arr5=df.groupBy('genre').agg({'genre':'count'}).orderBy('count(genre)',ascending=False).show(1)"
      ],
      "metadata": {
        "id": "Z-RpLlNFIJgk",
        "outputId": "7723dae4-6465-4807-ec62-615cbb55e215",
        "colab": {
          "base_uri": "https://localhost:8080/"
        }
      },
      "execution_count": 53,
      "outputs": [
        {
          "output_type": "stream",
          "name": "stdout",
          "text": [
            "+------+------------+\n",
            "| genre|count(genre)|\n",
            "+------+------------+\n",
            "|sci-fi|           9|\n",
            "+------+------------+\n",
            "only showing top 1 row\n",
            "\n"
          ]
        }
      ]
    },
    {
      "cell_type": "code",
      "source": [
        "#Calculate total watchtime per user\n",
        "arr6=df.groupBy('user_id').agg({'duration_mins':'sum'}).show()"
      ],
      "metadata": {
        "id": "vm_-_AUWIJis",
        "outputId": "09cf2107-18a2-4667-8f05-0a060b8c3294",
        "colab": {
          "base_uri": "https://localhost:8080/"
        }
      },
      "execution_count": 54,
      "outputs": [
        {
          "output_type": "stream",
          "name": "stdout",
          "text": [
            "+-------+------------------+\n",
            "|user_id|sum(duration_mins)|\n",
            "+-------+------------------+\n",
            "|    521|             810.0|\n",
            "|    200|             530.0|\n",
            "|    672|            1160.0|\n",
            "|    256|             560.0|\n",
            "|    197|             500.0|\n",
            "|    211|             170.0|\n",
            "|    844|             610.0|\n",
            "|    489|             510.0|\n",
            "+-------+------------------+\n",
            "\n"
          ]
        }
      ]
    },
    {
      "cell_type": "code",
      "source": [
        "df.show()"
      ],
      "metadata": {
        "id": "b0mieLXE918M",
        "outputId": "447e74eb-7999-46e9-d1f4-beb830ee8932",
        "colab": {
          "base_uri": "https://localhost:8080/"
        }
      },
      "execution_count": 55,
      "outputs": [
        {
          "output_type": "stream",
          "name": "stdout",
          "text": [
            "+-------+---------------+------+-------------------+--------+-------------+\n",
            "|user_id|         series|season|          timestamp|   genre|duration_mins|\n",
            "+-------+---------------+------+-------------------+--------+-------------+\n",
            "|    521|     ”Mirzapur”|     3|2024-07-30 15:00:00|  action|          300|\n",
            "|    672|    ”Panchayat”|     3|2024-07-30 15:00:00|  comedy|          200|\n",
            "|    197|   ”Family Man”|     2|2024-07-30 15:00:00|  action|          500|\n",
            "|    521|     ”Mirzapur”|     2|2024-07-29 15:00:00|  action|          280|\n",
            "|    211|”Queens Gambit”|     1|2024-07-30 15:00:00|   drama|          170|\n",
            "|    521|     ”Mirzapur”|     1|2024-07-28 15:00:00|  action|          230|\n",
            "|    844|    ”Westworld”|     3|2024-07-30 15:00:00|  sci-fi|          310|\n",
            "|    672|    ”Panchayat”|     3|2024-07-29 15:00:00|  comedy|          210|\n",
            "|    256|   ”Homecoming”|     2|2024-07-30 15:00:00|thriller|          310|\n",
            "|    489|  ”Outer Range”|     1|2024-07-30 15:00:00|  sci-fi|          340|\n",
            "|    200| ”Black Mirror”|     2|2024-07-30 15:00:00|  sci-fi|          140|\n",
            "|    256|  ”Outer Range”|     2|2024-07-30 15:00:00|thriller|          250|\n",
            "|    489|  ”Outer Range”|     2|2024-07-28 15:00:00|  sci-fi|          170|\n",
            "|    200| ”Black Mirror”|     3|2024-07-29 15:00:00|  sci-fi|          190|\n",
            "|    672|    ”Panchayat”|     2|2024-07-28 15:00:00|  comedy|          160|\n",
            "|    672|  ”Outer Range”|     1|2024-07-25 15:00:00|  sci-fi|          250|\n",
            "|    200| ”Black Mirror”|     4|2024-07-28 15:00:00|  sci-fi|          200|\n",
            "|    844|    ”Westworld”|     2|2024-07-29 15:00:00|  sci-fi|          300|\n",
            "|    672| ”Black Mirror”|     5|2024-07-28 15:00:00|  sci-fi|          150|\n",
            "|    672|    ”Panchayat”|     1|2024-07-27 15:00:00|  comedy|          190|\n",
            "+-------+---------------+------+-------------------+--------+-------------+\n",
            "\n"
          ]
        }
      ]
    },
    {
      "cell_type": "code",
      "source": [
        "#Find most popular genre (based on engagement count)\n",
        "arr7=df.groupBy('genre').agg({'duration_mins':'count'}).show()"
      ],
      "metadata": {
        "id": "l-DuDyiOIJlG",
        "outputId": "3d5c1697-4d06-4acf-f930-ed976bf955ae",
        "colab": {
          "base_uri": "https://localhost:8080/"
        }
      },
      "execution_count": 56,
      "outputs": [
        {
          "output_type": "stream",
          "name": "stdout",
          "text": [
            "+--------+--------------------+\n",
            "|   genre|count(duration_mins)|\n",
            "+--------+--------------------+\n",
            "|  action|                   4|\n",
            "|   drama|                   1|\n",
            "|thriller|                   2|\n",
            "|  sci-fi|                   9|\n",
            "|  comedy|                   4|\n",
            "+--------+--------------------+\n",
            "\n"
          ]
        }
      ]
    },
    {
      "cell_type": "code",
      "source": [
        "arr8=df.groupBy('genre').agg({'genre':'count'}).show()"
      ],
      "metadata": {
        "id": "ZWJ-YE8_Ewmt",
        "outputId": "dce6b7a9-eea1-44ba-db9a-982bdf2a81f2",
        "colab": {
          "base_uri": "https://localhost:8080/"
        }
      },
      "execution_count": 57,
      "outputs": [
        {
          "output_type": "stream",
          "name": "stdout",
          "text": [
            "+--------+------------+\n",
            "|   genre|count(genre)|\n",
            "+--------+------------+\n",
            "|  action|           4|\n",
            "|   drama|           1|\n",
            "|thriller|           2|\n",
            "|  sci-fi|           9|\n",
            "|  comedy|           4|\n",
            "+--------+------------+\n",
            "\n"
          ]
        }
      ]
    },
    {
      "cell_type": "code",
      "source": [
        "#Find average watchtime per genre\n",
        "arr9=df.groupBy('genre').agg({'duration_mins':'avg'}).show()"
      ],
      "metadata": {
        "id": "yFFZh-NFIJnQ",
        "outputId": "18428599-d23c-4f87-ff03-4d70e484dcee",
        "colab": {
          "base_uri": "https://localhost:8080/"
        }
      },
      "execution_count": 58,
      "outputs": [
        {
          "output_type": "stream",
          "name": "stdout",
          "text": [
            "+--------+------------------+\n",
            "|   genre|avg(duration_mins)|\n",
            "+--------+------------------+\n",
            "|  action|             327.5|\n",
            "|   drama|             170.0|\n",
            "|thriller|             280.0|\n",
            "|  sci-fi|227.77777777777777|\n",
            "|  comedy|             190.0|\n",
            "+--------+------------------+\n",
            "\n"
          ]
        }
      ]
    },
    {
      "cell_type": "code",
      "source": [
        "df.show()"
      ],
      "metadata": {
        "id": "smTeBYX9FlGR",
        "outputId": "6c526fa3-60b9-4a23-e55a-c74f0f2103ad",
        "colab": {
          "base_uri": "https://localhost:8080/"
        }
      },
      "execution_count": 59,
      "outputs": [
        {
          "output_type": "stream",
          "name": "stdout",
          "text": [
            "+-------+---------------+------+-------------------+--------+-------------+\n",
            "|user_id|         series|season|          timestamp|   genre|duration_mins|\n",
            "+-------+---------------+------+-------------------+--------+-------------+\n",
            "|    521|     ”Mirzapur”|     3|2024-07-30 15:00:00|  action|          300|\n",
            "|    672|    ”Panchayat”|     3|2024-07-30 15:00:00|  comedy|          200|\n",
            "|    197|   ”Family Man”|     2|2024-07-30 15:00:00|  action|          500|\n",
            "|    521|     ”Mirzapur”|     2|2024-07-29 15:00:00|  action|          280|\n",
            "|    211|”Queens Gambit”|     1|2024-07-30 15:00:00|   drama|          170|\n",
            "|    521|     ”Mirzapur”|     1|2024-07-28 15:00:00|  action|          230|\n",
            "|    844|    ”Westworld”|     3|2024-07-30 15:00:00|  sci-fi|          310|\n",
            "|    672|    ”Panchayat”|     3|2024-07-29 15:00:00|  comedy|          210|\n",
            "|    256|   ”Homecoming”|     2|2024-07-30 15:00:00|thriller|          310|\n",
            "|    489|  ”Outer Range”|     1|2024-07-30 15:00:00|  sci-fi|          340|\n",
            "|    200| ”Black Mirror”|     2|2024-07-30 15:00:00|  sci-fi|          140|\n",
            "|    256|  ”Outer Range”|     2|2024-07-30 15:00:00|thriller|          250|\n",
            "|    489|  ”Outer Range”|     2|2024-07-28 15:00:00|  sci-fi|          170|\n",
            "|    200| ”Black Mirror”|     3|2024-07-29 15:00:00|  sci-fi|          190|\n",
            "|    672|    ”Panchayat”|     2|2024-07-28 15:00:00|  comedy|          160|\n",
            "|    672|  ”Outer Range”|     1|2024-07-25 15:00:00|  sci-fi|          250|\n",
            "|    200| ”Black Mirror”|     4|2024-07-28 15:00:00|  sci-fi|          200|\n",
            "|    844|    ”Westworld”|     2|2024-07-29 15:00:00|  sci-fi|          300|\n",
            "|    672| ”Black Mirror”|     5|2024-07-28 15:00:00|  sci-fi|          150|\n",
            "|    672|    ”Panchayat”|     1|2024-07-27 15:00:00|  comedy|          190|\n",
            "+-------+---------------+------+-------------------+--------+-------------+\n",
            "\n"
          ]
        }
      ]
    },
    {
      "cell_type": "code",
      "source": [
        "#Find peak traffic days\n",
        "#(Output 1 = Full Date)\n",
        "arr10=df.groupBy(to_date('timestamp')).agg(count('timestamp')).orderBy('count(timestamp)',ascending=False)\n",
        "arr10.select('to_date(timestamp)').show(1)\n",
        ""
      ],
      "metadata": {
        "id": "HzXnysiXIJpq",
        "outputId": "0b014143-d0a3-4a24-ed9a-a977aa48929d",
        "colab": {
          "base_uri": "https://localhost:8080/"
        }
      },
      "execution_count": 70,
      "outputs": [
        {
          "output_type": "stream",
          "name": "stdout",
          "text": [
            "+------------------+\n",
            "|to_date(timestamp)|\n",
            "+------------------+\n",
            "|        2024-07-30|\n",
            "+------------------+\n",
            "only showing top 1 row\n",
            "\n"
          ]
        }
      ]
    },
    {
      "cell_type": "code",
      "source": [
        "#(Output 2 = Only Day)\n",
        "arr10=df.groupBy(dayofmonth('timestamp')).agg(count('timestamp')).orderBy('count(timestamp)',ascending=False)\n",
        "arr10.select('dayofmonth(timestamp)').show(1)\n",
        ""
      ],
      "metadata": {
        "id": "2GnNbZ66XnM4",
        "outputId": "00cc5ff7-5711-4a9c-bfbc-ec9353cc0a21",
        "colab": {
          "base_uri": "https://localhost:8080/"
        }
      },
      "execution_count": 71,
      "outputs": [
        {
          "output_type": "stream",
          "name": "stdout",
          "text": [
            "+---------------------+\n",
            "|dayofmonth(timestamp)|\n",
            "+---------------------+\n",
            "|                   30|\n",
            "+---------------------+\n",
            "only showing top 1 row\n",
            "\n"
          ]
        }
      ]
    },
    {
      "cell_type": "code",
      "source": [
        "df.show()"
      ],
      "metadata": {
        "id": "fgIFrYiQfAPn",
        "outputId": "f66b023e-014f-4bfa-bc1a-ca4587d691bc",
        "colab": {
          "base_uri": "https://localhost:8080/"
        }
      },
      "execution_count": 72,
      "outputs": [
        {
          "output_type": "stream",
          "name": "stdout",
          "text": [
            "+-------+---------------+------+-------------------+--------+-------------+\n",
            "|user_id|         series|season|          timestamp|   genre|duration_mins|\n",
            "+-------+---------------+------+-------------------+--------+-------------+\n",
            "|    521|     ”Mirzapur”|     3|2024-07-30 15:00:00|  action|          300|\n",
            "|    672|    ”Panchayat”|     3|2024-07-30 15:00:00|  comedy|          200|\n",
            "|    197|   ”Family Man”|     2|2024-07-30 15:00:00|  action|          500|\n",
            "|    521|     ”Mirzapur”|     2|2024-07-29 15:00:00|  action|          280|\n",
            "|    211|”Queens Gambit”|     1|2024-07-30 15:00:00|   drama|          170|\n",
            "|    521|     ”Mirzapur”|     1|2024-07-28 15:00:00|  action|          230|\n",
            "|    844|    ”Westworld”|     3|2024-07-30 15:00:00|  sci-fi|          310|\n",
            "|    672|    ”Panchayat”|     3|2024-07-29 15:00:00|  comedy|          210|\n",
            "|    256|   ”Homecoming”|     2|2024-07-30 15:00:00|thriller|          310|\n",
            "|    489|  ”Outer Range”|     1|2024-07-30 15:00:00|  sci-fi|          340|\n",
            "|    200| ”Black Mirror”|     2|2024-07-30 15:00:00|  sci-fi|          140|\n",
            "|    256|  ”Outer Range”|     2|2024-07-30 15:00:00|thriller|          250|\n",
            "|    489|  ”Outer Range”|     2|2024-07-28 15:00:00|  sci-fi|          170|\n",
            "|    200| ”Black Mirror”|     3|2024-07-29 15:00:00|  sci-fi|          190|\n",
            "|    672|    ”Panchayat”|     2|2024-07-28 15:00:00|  comedy|          160|\n",
            "|    672|  ”Outer Range”|     1|2024-07-25 15:00:00|  sci-fi|          250|\n",
            "|    200| ”Black Mirror”|     4|2024-07-28 15:00:00|  sci-fi|          200|\n",
            "|    844|    ”Westworld”|     2|2024-07-29 15:00:00|  sci-fi|          300|\n",
            "|    672| ”Black Mirror”|     5|2024-07-28 15:00:00|  sci-fi|          150|\n",
            "|    672|    ”Panchayat”|     1|2024-07-27 15:00:00|  comedy|          190|\n",
            "+-------+---------------+------+-------------------+--------+-------------+\n",
            "\n"
          ]
        }
      ]
    },
    {
      "cell_type": "code",
      "source": [
        "#Find the user with most diverse show preference\n",
        "\n"
      ],
      "metadata": {
        "id": "yY7SlM8yIJsz"
      },
      "execution_count": null,
      "outputs": []
    },
    {
      "cell_type": "code",
      "source": [
        "#Find the binge-watchers\n"
      ],
      "metadata": {
        "id": "9UMeWCk-IJvK"
      },
      "execution_count": null,
      "outputs": []
    },
    {
      "cell_type": "code",
      "source": [
        "#Find the user with longest watching streak\n",
        "arr11="
      ],
      "metadata": {
        "id": "14CBZwe2M3rZ",
        "outputId": "28d474e3-0a31-4abf-c551-802fddbfb8e8",
        "colab": {
          "base_uri": "https://localhost:8080/"
        }
      },
      "execution_count": 60,
      "outputs": [
        {
          "output_type": "stream",
          "name": "stdout",
          "text": [
            "+-------+------------------+\n",
            "|user_id|sum(duration_mins)|\n",
            "+-------+------------------+\n",
            "|    672|            1160.0|\n",
            "|    521|             810.0|\n",
            "|    844|             610.0|\n",
            "|    256|             560.0|\n",
            "|    200|             530.0|\n",
            "|    489|             510.0|\n",
            "|    197|             500.0|\n",
            "|    211|             170.0|\n",
            "+-------+------------------+\n",
            "\n"
          ]
        }
      ]
    },
    {
      "cell_type": "code",
      "source": [
        "#Total Seasons available\n",
        "arr12=df.groupBy('series').agg(max('season')).orderBy('max(season)',ascending=False).show()"
      ],
      "metadata": {
        "id": "X0HCvFNbye9Y",
        "outputId": "e20c6a45-af31-4386-bb85-717d09171e51",
        "colab": {
          "base_uri": "https://localhost:8080/"
        }
      },
      "execution_count": 81,
      "outputs": [
        {
          "output_type": "stream",
          "name": "stdout",
          "text": [
            "+---------------+-----------+\n",
            "|         series|max(season)|\n",
            "+---------------+-----------+\n",
            "| ”Black Mirror”|          5|\n",
            "|     ”Mirzapur”|          3|\n",
            "|    ”Panchayat”|          3|\n",
            "|    ”Westworld”|          3|\n",
            "|   ”Family Man”|          2|\n",
            "|   ”Homecoming”|          2|\n",
            "|  ”Outer Range”|          2|\n",
            "|”Queens Gambit”|          1|\n",
            "+---------------+-----------+\n",
            "\n"
          ]
        }
      ]
    },
    {
      "cell_type": "code",
      "source": [
        "#Fetch a list of all series\n",
        "arr13=df.select('series').distinct()\n",
        "arr13.rdd.flatMap(lambda x:[x[0]]).collect()"
      ],
      "metadata": {
        "id": "weylH9PDM3uU",
        "outputId": "4177db82-0985-4491-bd26-c638e9959728",
        "colab": {
          "base_uri": "https://localhost:8080/"
        }
      },
      "execution_count": 74,
      "outputs": [
        {
          "output_type": "execute_result",
          "data": {
            "text/plain": [
              "['”Family Man”',\n",
              " '”Homecoming”',\n",
              " '”Panchayat”',\n",
              " '”Outer Range”',\n",
              " '”Black Mirror”',\n",
              " '”Mirzapur”',\n",
              " '”Westworld”',\n",
              " '”Queens Gambit”']"
            ]
          },
          "metadata": {},
          "execution_count": 74
        }
      ]
    },
    {
      "cell_type": "code",
      "source": [],
      "metadata": {
        "id": "EXx9TXavbuIK"
      },
      "execution_count": null,
      "outputs": []
    }
  ]
}