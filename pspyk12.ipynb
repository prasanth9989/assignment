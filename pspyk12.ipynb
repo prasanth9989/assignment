{
  "nbformat": 4,
  "nbformat_minor": 0,
  "metadata": {
    "colab": {
      "provenance": []
    },
    "kernelspec": {
      "name": "python3",
      "display_name": "Python 3"
    },
    "language_info": {
      "name": "python"
    }
  },
  "cells": [
    {
      "cell_type": "code",
      "execution_count": null,
      "metadata": {
        "id": "UoH8kZvLICAR"
      },
      "outputs": [],
      "source": [
        "#user_data\n",
        "\n",
        "user_id,series,season,timestamp,genre,duration_mins\n",
        "521,”Mirzapur”,3,2024-07-30 15:00:00,action,300\n",
        "672,”Panchayat”,3,2024-07-30 15:00:00,comedy,200\n",
        "197,”Family Man”,2,2024-07-30 15:00:00,action,500\n",
        "521,”Mirzapur”,2,2024-07-29 15:00:00,action,280\n",
        "211,”Queens Gambit”,1,2024-07-30 15:00:00,drama,170\n",
        "521,”Mirzapur”,1,2024-07-28 15:00:00,action,230\n",
        "844,”Westworld”,3,2024-07-30 15:00:00,sci-fi,310\n",
        "672,”Panchayat”,3,2024-07-29 15:00:00,comedy,210\n",
        "256,”Homecoming”,2,2024-07-30 15:00:00,thriller,310\n",
        "489,”Outer Range”,1,2024-07-30 15:00:00,sci-fi,340\n",
        "200,”Black Mirror”,2,2024-07-30 15:00:00,sci-fi,140\n",
        "256,”Outer Range”,2,2024-07-30 15:00:00,thriller,250\n",
        "489,”Outer Range”,2,2024-07-28 15:00:00,sci-fi,170\n",
        "200,”Black Mirror”,3,2024-07-29 15:00:00,sci-fi,190\n",
        "672,”Panchayat”,2,2024-07-28 15:00:00,comedy,160\n",
        "672,”Outer Range”,1,2024-07-25 15:00:00,sci-fi,250\n",
        "200,”Black Mirror”,4,2024-07-28 15:00:00,sci-fi,200\n",
        "844,”Westworld”,2,2024-07-29 15:00:00,sci-fi,300\n",
        "672,”Black Mirror”,5,2024-07-28 15:00:00,sci-fi,150\n",
        "672,”Panchayat”,1,2024-07-27 15:00:00,comedy,190"
      ]
    },
    {
      "cell_type": "code",
      "source": [
        "#Import Libraries\n"
      ],
      "metadata": {
        "id": "GLxzpwaSIJRA"
      },
      "execution_count": null,
      "outputs": []
    },
    {
      "cell_type": "code",
      "source": [
        "#Create SparkSession for app (Streaming Analysis)\n"
      ],
      "metadata": {
        "id": "YChMWo_nIJTq"
      },
      "execution_count": null,
      "outputs": []
    },
    {
      "cell_type": "code",
      "source": [
        "#Create Dataframe series_df\n"
      ],
      "metadata": {
        "id": "gljhEO_IIJXB"
      },
      "execution_count": null,
      "outputs": []
    },
    {
      "cell_type": "code",
      "source": [
        "#Find the user with maximum watchtime\n"
      ],
      "metadata": {
        "id": "ddoznJiZIJZI"
      },
      "execution_count": null,
      "outputs": []
    },
    {
      "cell_type": "code",
      "source": [
        "#Calculate overall total Watchtime\n"
      ],
      "metadata": {
        "id": "KCpeY-cyynpN"
      },
      "execution_count": null,
      "outputs": []
    },
    {
      "cell_type": "code",
      "source": [
        "#Find most popular shows (based on watchtime)\n"
      ],
      "metadata": {
        "id": "SMnElt2ZIJbJ"
      },
      "execution_count": null,
      "outputs": []
    },
    {
      "cell_type": "code",
      "source": [
        "#Find most popular shows (based on user popularity)\n"
      ],
      "metadata": {
        "id": "-W2oNioNIJem"
      },
      "execution_count": null,
      "outputs": []
    },
    {
      "cell_type": "code",
      "source": [
        "#Find the most popular genre\n"
      ],
      "metadata": {
        "id": "Z-RpLlNFIJgk"
      },
      "execution_count": null,
      "outputs": []
    },
    {
      "cell_type": "code",
      "source": [
        "#Calculate total watchtime per user\n"
      ],
      "metadata": {
        "id": "vm_-_AUWIJis"
      },
      "execution_count": null,
      "outputs": []
    },
    {
      "cell_type": "code",
      "source": [
        "#Find most popular genre (based on engagement count)\n"
      ],
      "metadata": {
        "id": "l-DuDyiOIJlG"
      },
      "execution_count": null,
      "outputs": []
    },
    {
      "cell_type": "code",
      "source": [
        "#Find average watchtime per genre\n"
      ],
      "metadata": {
        "id": "yFFZh-NFIJnQ"
      },
      "execution_count": null,
      "outputs": []
    },
    {
      "cell_type": "code",
      "source": [
        "#Find peak traffic days\n",
        "#(Output 1 = Full Date)\n",
        "\n",
        "\n",
        "#(Output 2 = Only Day)\n",
        "\n"
      ],
      "metadata": {
        "id": "HzXnysiXIJpq"
      },
      "execution_count": null,
      "outputs": []
    },
    {
      "cell_type": "code",
      "source": [
        "#Find the user with most diverse show preference\n"
      ],
      "metadata": {
        "id": "yY7SlM8yIJsz"
      },
      "execution_count": null,
      "outputs": []
    },
    {
      "cell_type": "code",
      "source": [
        "#Find the binge-watchers\n"
      ],
      "metadata": {
        "id": "9UMeWCk-IJvK"
      },
      "execution_count": null,
      "outputs": []
    },
    {
      "cell_type": "code",
      "source": [
        "#Find the user with longest watching streak\n"
      ],
      "metadata": {
        "id": "14CBZwe2M3rZ"
      },
      "execution_count": null,
      "outputs": []
    },
    {
      "cell_type": "code",
      "source": [
        "#Total Seasons available\n"
      ],
      "metadata": {
        "id": "X0HCvFNbye9Y"
      },
      "execution_count": null,
      "outputs": []
    },
    {
      "cell_type": "code",
      "source": [
        "#Fetch a list of all series\n"
      ],
      "metadata": {
        "id": "weylH9PDM3uU"
      },
      "execution_count": null,
      "outputs": []
    }
  ]
}